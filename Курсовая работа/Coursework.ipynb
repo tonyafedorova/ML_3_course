{
  "nbformat": 4,
  "nbformat_minor": 0,
  "metadata": {
    "colab": {
      "name": "Coursework.ipynb",
      "version": "0.3.2",
      "provenance": [],
      "collapsed_sections": []
    },
    "kernelspec": {
      "name": "python3",
      "display_name": "Python 3"
    }
  },
  "cells": [
    {
      "cell_type": "code",
      "metadata": {
        "id": "_UHiqjHL-LAh",
        "colab_type": "code",
        "colab": {}
      },
      "source": [
        "#Импорт библиотек \n",
        "from google.colab import drive\n",
        "import numpy as np\n",
        "import pandas as pd\n",
        "from sklearn.model_selection import train_test_split\n",
        "from sklearn.linear_model import SGDClassifier\n",
        "from sklearn.impute import SimpleImputer\n",
        "from sklearn.preprocessing import LabelEncoder\n",
        "import seaborn as sns\n",
        "from prettytable import PrettyTable\n",
        "import matplotlib.pyplot as plt\n",
        "from sklearn.svm import SVC\n",
        "from sklearn.ensemble import RandomForestClassifier\n",
        "from sklearn.ensemble import BaggingClassifier\n",
        "from sklearn.tree import DecisionTreeClassifier\n",
        "from sklearn.model_selection import GridSearchCV, KFold\n",
        "from sklearn.neighbors import KNeighborsRegressor, KNeighborsClassifier\n",
        "from sklearn.metrics import accuracy_score, balanced_accuracy_score, recall_score"
      ],
      "execution_count": 0,
      "outputs": []
    },
    {
      "cell_type": "code",
      "metadata": {
        "id": "60xlc1zd-sm8",
        "colab_type": "code",
        "outputId": "cf9b6a6b-1abb-4d6e-90bb-5da32999e0c7",
        "colab": {
          "base_uri": "https://localhost:8080/",
          "height": 269
        }
      },
      "source": [
        "#Монтирую гугл диск, чтобы взять оттуда датасет\n",
        "drive.mount(\"/content/gdrive\", force_remount=True)"
      ],
      "execution_count": 0,
      "outputs": [
        {
          "output_type": "stream",
          "text": [
            "Go to this URL in a browser: https://accounts.google.com/o/oauth2/auth?client_id=947318989803-6bn6qk8qdgf4n4g3pfee6491hc0brc4i.apps.googleusercontent.com&redirect_uri=urn%3Aietf%3Awg%3Aoauth%3A2.0%3Aoob&scope=email%20https%3A%2F%2Fwww.googleapis.com%2Fauth%2Fdocs.test%20https%3A%2F%2Fwww.googleapis.com%2Fauth%2Fdrive%20https%3A%2F%2Fwww.googleapis.com%2Fauth%2Fdrive.photos.readonly%20https%3A%2F%2Fwww.googleapis.com%2Fauth%2Fpeopleapi.readonly&response_type=code\n",
            "\n",
            "Enter your authorization code:\n",
            "··········\n",
            "Mounted at /content/gdrive\n"
          ],
          "name": "stdout"
        }
      ]
    },
    {
      "cell_type": "code",
      "metadata": {
        "id": "7mBY3jcW-5O0",
        "colab_type": "code",
        "colab": {}
      },
      "source": [
        "#Загружаю данные с гугл диска\n",
        "data = pd.read_csv('/content/gdrive/My Drive/BlackFriday.csv', sep=\",\")"
      ],
      "execution_count": 0,
      "outputs": []
    },
    {
      "cell_type": "markdown",
      "metadata": {
        "id": "daPNlE1Qw4pc",
        "colab_type": "text"
      },
      "source": [
        "# Описание выбранного датасета\n",
        "### Для выполнения курсовой работы я выбрала датасет \"Black Friday\"\n",
        "https://www.kaggle.com/mehdidag/black-friday\n",
        "\n",
        "Набор данных представляет собой образец транзакций, совершенных в розничном магазине. В частности, здесь проблема заключается в проблеме регрессии, когда мы пытаемся предсказать зависимую переменную (сумму покупки) с помощью информации, содержащейся в других переменных. \n",
        "Так как данные предоставлены \" Analytics Vidhya\" - часть из них представляет закодированные данные.\n",
        "\n",
        "Также в этом датасете может быть решена проблема классификации. Такая задача мне показалась интереснее и у меня уже есть идеи, куда эту модель можно использовать с пользой.\n",
        "\n",
        "Данный датасет содержит следующие поля:\n",
        "\n",
        "User_ID - уникальный идентификатор каждого покупателя (в модели не используется)\n",
        "\n",
        "Product_ID - уникальный идентификатор каждого товара (в модели не используется)\n",
        "\n",
        "Gender - пол покупателя (M/F)\n",
        "\n",
        "Age - возраст покупателя - дается в виде промежутков возрастов \n",
        "\n",
        "Occupation - код рода деятельности каждого покупателя\n",
        "\n",
        "City_Category - категория города, в котором проживает покупатель (данные также закодированы)\n",
        "\n",
        "Stay_In_Current_City_Years - сколько лет покупатель прожил в данном городе (делится на промежутки 0, 1, 2, 3, 4+ лет)\n",
        "\n",
        "Marital_Status- семейное положение (0/1)\n",
        "\n",
        "Product_Category_(2,3) - категория, которой принадлежит товар. Один и тот же товар может принадлежать сразу к нескольким категориям.\n",
        "\n",
        "Purchase - стоимость покупки в долларах\n",
        "\n",
        "Product_Category_1 - категория товара. Я выбрала ее целевым признаком. Почему я так сделала - объясню позже."
      ]
    },
    {
      "cell_type": "code",
      "metadata": {
        "id": "6J9LIGz9_RCm",
        "colab_type": "code",
        "outputId": "d0f4c3fb-d53a-4afc-f0f3-f8cdda54a724",
        "colab": {
          "base_uri": "https://localhost:8080/",
          "height": 392
        }
      },
      "source": [
        "data.head(5)"
      ],
      "execution_count": 0,
      "outputs": [
        {
          "output_type": "execute_result",
          "data": {
            "text/html": [
              "<div>\n",
              "<style scoped>\n",
              "    .dataframe tbody tr th:only-of-type {\n",
              "        vertical-align: middle;\n",
              "    }\n",
              "\n",
              "    .dataframe tbody tr th {\n",
              "        vertical-align: top;\n",
              "    }\n",
              "\n",
              "    .dataframe thead th {\n",
              "        text-align: right;\n",
              "    }\n",
              "</style>\n",
              "<table border=\"1\" class=\"dataframe\">\n",
              "  <thead>\n",
              "    <tr style=\"text-align: right;\">\n",
              "      <th></th>\n",
              "      <th>User_ID</th>\n",
              "      <th>Product_ID</th>\n",
              "      <th>Gender</th>\n",
              "      <th>Age</th>\n",
              "      <th>Occupation</th>\n",
              "      <th>City_Category</th>\n",
              "      <th>Stay_In_Current_City_Years</th>\n",
              "      <th>Marital_Status</th>\n",
              "      <th>Product_Category_1</th>\n",
              "      <th>Product_Category_2</th>\n",
              "      <th>Product_Category_3</th>\n",
              "      <th>Purchase</th>\n",
              "    </tr>\n",
              "  </thead>\n",
              "  <tbody>\n",
              "    <tr>\n",
              "      <th>0</th>\n",
              "      <td>1000001</td>\n",
              "      <td>P00069042</td>\n",
              "      <td>F</td>\n",
              "      <td>0-17</td>\n",
              "      <td>10</td>\n",
              "      <td>A</td>\n",
              "      <td>2</td>\n",
              "      <td>0</td>\n",
              "      <td>3</td>\n",
              "      <td>NaN</td>\n",
              "      <td>NaN</td>\n",
              "      <td>8370</td>\n",
              "    </tr>\n",
              "    <tr>\n",
              "      <th>1</th>\n",
              "      <td>1000001</td>\n",
              "      <td>P00248942</td>\n",
              "      <td>F</td>\n",
              "      <td>0-17</td>\n",
              "      <td>10</td>\n",
              "      <td>A</td>\n",
              "      <td>2</td>\n",
              "      <td>0</td>\n",
              "      <td>1</td>\n",
              "      <td>6.0</td>\n",
              "      <td>14.0</td>\n",
              "      <td>15200</td>\n",
              "    </tr>\n",
              "    <tr>\n",
              "      <th>2</th>\n",
              "      <td>1000001</td>\n",
              "      <td>P00087842</td>\n",
              "      <td>F</td>\n",
              "      <td>0-17</td>\n",
              "      <td>10</td>\n",
              "      <td>A</td>\n",
              "      <td>2</td>\n",
              "      <td>0</td>\n",
              "      <td>12</td>\n",
              "      <td>NaN</td>\n",
              "      <td>NaN</td>\n",
              "      <td>1422</td>\n",
              "    </tr>\n",
              "    <tr>\n",
              "      <th>3</th>\n",
              "      <td>1000001</td>\n",
              "      <td>P00085442</td>\n",
              "      <td>F</td>\n",
              "      <td>0-17</td>\n",
              "      <td>10</td>\n",
              "      <td>A</td>\n",
              "      <td>2</td>\n",
              "      <td>0</td>\n",
              "      <td>12</td>\n",
              "      <td>14.0</td>\n",
              "      <td>NaN</td>\n",
              "      <td>1057</td>\n",
              "    </tr>\n",
              "    <tr>\n",
              "      <th>4</th>\n",
              "      <td>1000002</td>\n",
              "      <td>P00285442</td>\n",
              "      <td>M</td>\n",
              "      <td>55+</td>\n",
              "      <td>16</td>\n",
              "      <td>C</td>\n",
              "      <td>4+</td>\n",
              "      <td>0</td>\n",
              "      <td>8</td>\n",
              "      <td>NaN</td>\n",
              "      <td>NaN</td>\n",
              "      <td>7969</td>\n",
              "    </tr>\n",
              "  </tbody>\n",
              "</table>\n",
              "</div>"
            ],
            "text/plain": [
              "   User_ID Product_ID Gender  ... Product_Category_2  Product_Category_3 Purchase\n",
              "0  1000001  P00069042      F  ...                NaN                 NaN     8370\n",
              "1  1000001  P00248942      F  ...                6.0                14.0    15200\n",
              "2  1000001  P00087842      F  ...                NaN                 NaN     1422\n",
              "3  1000001  P00085442      F  ...               14.0                 NaN     1057\n",
              "4  1000002  P00285442      M  ...                NaN                 NaN     7969\n",
              "\n",
              "[5 rows x 12 columns]"
            ]
          },
          "metadata": {
            "tags": []
          },
          "execution_count": 5
        }
      ]
    },
    {
      "cell_type": "code",
      "metadata": {
        "id": "iv5Oo9HX_Ww9",
        "colab_type": "code",
        "outputId": "92ab8db4-d3d1-419a-e3df-14972347be00",
        "colab": {
          "base_uri": "https://localhost:8080/",
          "height": 34
        }
      },
      "source": [
        "data.shape"
      ],
      "execution_count": 0,
      "outputs": [
        {
          "output_type": "execute_result",
          "data": {
            "text/plain": [
              "(537577, 12)"
            ]
          },
          "metadata": {
            "tags": []
          },
          "execution_count": 5
        }
      ]
    },
    {
      "cell_type": "code",
      "metadata": {
        "id": "SR2-nKjZ_zun",
        "colab_type": "code",
        "outputId": "6050173d-ec6d-4984-a82f-962e21c1854c",
        "colab": {
          "base_uri": "https://localhost:8080/",
          "height": 238
        }
      },
      "source": [
        "data.dtypes"
      ],
      "execution_count": 0,
      "outputs": [
        {
          "output_type": "execute_result",
          "data": {
            "text/plain": [
              "User_ID                         int64\n",
              "Product_ID                     object\n",
              "Gender                         object\n",
              "Age                            object\n",
              "Occupation                      int64\n",
              "City_Category                  object\n",
              "Stay_In_Current_City_Years     object\n",
              "Marital_Status                  int64\n",
              "Product_Category_1              int64\n",
              "Product_Category_2            float64\n",
              "Product_Category_3            float64\n",
              "Purchase                        int64\n",
              "dtype: object"
            ]
          },
          "metadata": {
            "tags": []
          },
          "execution_count": 7
        }
      ]
    },
    {
      "cell_type": "code",
      "metadata": {
        "id": "kM3TWUv-__Mf",
        "colab_type": "code",
        "outputId": "d7d1d1bb-48a8-458c-8f1e-36715b600d83",
        "colab": {
          "base_uri": "https://localhost:8080/",
          "height": 238
        }
      },
      "source": [
        "data.isnull().sum()\n"
      ],
      "execution_count": 0,
      "outputs": [
        {
          "output_type": "execute_result",
          "data": {
            "text/plain": [
              "User_ID                            0\n",
              "Product_ID                         0\n",
              "Gender                             0\n",
              "Age                                0\n",
              "Occupation                         0\n",
              "City_Category                      0\n",
              "Stay_In_Current_City_Years         0\n",
              "Marital_Status                     0\n",
              "Product_Category_1                 0\n",
              "Product_Category_2            166986\n",
              "Product_Category_3            373299\n",
              "Purchase                           0\n",
              "dtype: int64"
            ]
          },
          "metadata": {
            "tags": []
          },
          "execution_count": 8
        }
      ]
    },
    {
      "cell_type": "code",
      "metadata": {
        "id": "qtvLNIPSAf-b",
        "colab_type": "code",
        "outputId": "29c6e622-84da-442f-fcc2-ea8b39e6293f",
        "colab": {
          "base_uri": "https://localhost:8080/",
          "height": 238
        }
      },
      "source": [
        "imp = SimpleImputer(missing_values=np.nan, strategy='constant', fill_value=0)\n",
        "data['Product_Category_2'] = imp.fit_transform(data[['Product_Category_2']])\n",
        "data.isnull().sum()"
      ],
      "execution_count": 0,
      "outputs": [
        {
          "output_type": "execute_result",
          "data": {
            "text/plain": [
              "User_ID                            0\n",
              "Product_ID                         0\n",
              "Gender                             0\n",
              "Age                                0\n",
              "Occupation                         0\n",
              "City_Category                      0\n",
              "Stay_In_Current_City_Years         0\n",
              "Marital_Status                     0\n",
              "Product_Category_1                 0\n",
              "Product_Category_2                 0\n",
              "Product_Category_3            373299\n",
              "Purchase                           0\n",
              "dtype: int64"
            ]
          },
          "metadata": {
            "tags": []
          },
          "execution_count": 6
        }
      ]
    },
    {
      "cell_type": "code",
      "metadata": {
        "id": "Q5zc_t6DBSgz",
        "colab_type": "code",
        "outputId": "2ace8ad4-d419-41a6-8c65-7173900b3090",
        "colab": {
          "base_uri": "https://localhost:8080/",
          "height": 238
        }
      },
      "source": [
        "data['Product_Category_3'] = imp.fit_transform(data[['Product_Category_3']])\n",
        "data.isnull().sum()"
      ],
      "execution_count": 0,
      "outputs": [
        {
          "output_type": "execute_result",
          "data": {
            "text/plain": [
              "User_ID                       0\n",
              "Product_ID                    0\n",
              "Gender                        0\n",
              "Age                           0\n",
              "Occupation                    0\n",
              "City_Category                 0\n",
              "Stay_In_Current_City_Years    0\n",
              "Marital_Status                0\n",
              "Product_Category_1            0\n",
              "Product_Category_2            0\n",
              "Product_Category_3            0\n",
              "Purchase                      0\n",
              "dtype: int64"
            ]
          },
          "metadata": {
            "tags": []
          },
          "execution_count": 7
        }
      ]
    },
    {
      "cell_type": "code",
      "metadata": {
        "id": "kL03BiNYBpd7",
        "colab_type": "code",
        "outputId": "6f9ca1fe-1c3f-4951-d73b-8bc64325547b",
        "colab": {
          "base_uri": "https://localhost:8080/",
          "height": 34
        }
      },
      "source": [
        "print(data['Gender'].unique(), data['Age'].unique(), data['City_Category'].unique(),\n",
        "data['Stay_In_Current_City_Years'].unique())"
      ],
      "execution_count": 0,
      "outputs": [
        {
          "output_type": "stream",
          "text": [
            "['F' 'M'] ['0-17' '55+' '26-35' '46-50' '51-55' '36-45' '18-25'] ['A' 'C' 'B'] ['2' '4+' '3' '1' '0']\n"
          ],
          "name": "stdout"
        }
      ]
    },
    {
      "cell_type": "code",
      "metadata": {
        "id": "XbNM8_t_CyjW",
        "colab_type": "code",
        "outputId": "a0c00311-bc37-4f0b-c9e9-40a1219fe028",
        "colab": {
          "base_uri": "https://localhost:8080/",
          "height": 253
        }
      },
      "source": [
        "le = LabelEncoder()\n",
        "data['Gender'] = le.fit_transform(data[['Gender']])\n",
        "data['Age'] = le.fit_transform(data[['Age']])\n",
        "data['City_Category'] = le.fit_transform(data[['City_Category']])\n",
        "data['Stay_In_Current_City_Years'] = le.fit_transform(data[['Stay_In_Current_City_Years']])"
      ],
      "execution_count": 0,
      "outputs": [
        {
          "output_type": "stream",
          "text": [
            "/usr/local/lib/python3.6/dist-packages/sklearn/preprocessing/label.py:235: DataConversionWarning: A column-vector y was passed when a 1d array was expected. Please change the shape of y to (n_samples, ), for example using ravel().\n",
            "  y = column_or_1d(y, warn=True)\n",
            "/usr/local/lib/python3.6/dist-packages/sklearn/preprocessing/label.py:235: DataConversionWarning: A column-vector y was passed when a 1d array was expected. Please change the shape of y to (n_samples, ), for example using ravel().\n",
            "  y = column_or_1d(y, warn=True)\n",
            "/usr/local/lib/python3.6/dist-packages/sklearn/preprocessing/label.py:235: DataConversionWarning: A column-vector y was passed when a 1d array was expected. Please change the shape of y to (n_samples, ), for example using ravel().\n",
            "  y = column_or_1d(y, warn=True)\n",
            "/usr/local/lib/python3.6/dist-packages/sklearn/preprocessing/label.py:235: DataConversionWarning: A column-vector y was passed when a 1d array was expected. Please change the shape of y to (n_samples, ), for example using ravel().\n",
            "  y = column_or_1d(y, warn=True)\n"
          ],
          "name": "stderr"
        }
      ]
    },
    {
      "cell_type": "code",
      "metadata": {
        "id": "sQ7XIl9nEBF9",
        "colab_type": "code",
        "outputId": "612635e4-6beb-4291-b2f6-46d35f94671a",
        "colab": {
          "base_uri": "https://localhost:8080/",
          "height": 34
        }
      },
      "source": [
        "print(data['Gender'].unique(), data['Age'].unique(), data['City_Category'].unique(),\n",
        "data['Stay_In_Current_City_Years'].unique())"
      ],
      "execution_count": 0,
      "outputs": [
        {
          "output_type": "stream",
          "text": [
            "[0 1] [0 6 2 4 5 3 1] [0 2 1] [2 4 3 1 0]\n"
          ],
          "name": "stdout"
        }
      ]
    },
    {
      "cell_type": "code",
      "metadata": {
        "id": "7wHLtyV6EHlg",
        "colab_type": "code",
        "outputId": "dc02efe6-771f-43b0-e85c-ad7502615ad2",
        "colab": {
          "base_uri": "https://localhost:8080/",
          "height": 238
        }
      },
      "source": [
        "data.dtypes"
      ],
      "execution_count": 0,
      "outputs": [
        {
          "output_type": "execute_result",
          "data": {
            "text/plain": [
              "User_ID                         int64\n",
              "Product_ID                     object\n",
              "Gender                          int64\n",
              "Age                             int64\n",
              "Occupation                      int64\n",
              "City_Category                   int64\n",
              "Stay_In_Current_City_Years      int64\n",
              "Marital_Status                  int64\n",
              "Product_Category_1              int64\n",
              "Product_Category_2            float64\n",
              "Product_Category_3            float64\n",
              "Purchase                        int64\n",
              "dtype: object"
            ]
          },
          "metadata": {
            "tags": []
          },
          "execution_count": 11
        }
      ]
    },
    {
      "cell_type": "code",
      "metadata": {
        "id": "82jfnQYLHuP_",
        "colab_type": "code",
        "outputId": "8dcb0fc4-eaad-4e6e-a5e1-489a64131adc",
        "colab": {
          "base_uri": "https://localhost:8080/",
          "height": 413
        }
      },
      "source": [
        "sns.heatmap(data.corr(method='pearson'), annot=True, fmt='.2f', square=False)"
      ],
      "execution_count": 0,
      "outputs": [
        {
          "output_type": "execute_result",
          "data": {
            "text/plain": [
              "<matplotlib.axes._subplots.AxesSubplot at 0x7fd735abc208>"
            ]
          },
          "metadata": {
            "tags": []
          },
          "execution_count": 10
        },
        {
          "output_type": "display_data",
          "data": {
            "image/png": "[encoded data removed]",
            "text/plain": [
              "<Figure size 432x288 with 2 Axes>"
            ]
          },
          "metadata": {
            "tags": []
          }
        }
      ]
    },
    {
      "cell_type": "code",
      "metadata": {
        "id": "5ZFGSlSN3HEm",
        "colab_type": "code",
        "outputId": "0b69e095-1262-4a53-8137-a53a274151f7",
        "colab": {
          "base_uri": "https://localhost:8080/",
          "height": 510
        }
      },
      "source": [
        "data.corr()"
      ],
      "execution_count": 0,
      "outputs": [
        {
          "output_type": "execute_result",
          "data": {
            "text/html": [
              "<div>\n",
              "<style scoped>\n",
              "    .dataframe tbody tr th:only-of-type {\n",
              "        vertical-align: middle;\n",
              "    }\n",
              "\n",
              "    .dataframe tbody tr th {\n",
              "        vertical-align: top;\n",
              "    }\n",
              "\n",
              "    .dataframe thead th {\n",
              "        text-align: right;\n",
              "    }\n",
              "</style>\n",
              "<table border=\"1\" class=\"dataframe\">\n",
              "  <thead>\n",
              "    <tr style=\"text-align: right;\">\n",
              "      <th></th>\n",
              "      <th>User_ID</th>\n",
              "      <th>Gender</th>\n",
              "      <th>Age</th>\n",
              "      <th>Occupation</th>\n",
              "      <th>City_Category</th>\n",
              "      <th>Stay_In_Current_City_Years</th>\n",
              "      <th>Marital_Status</th>\n",
              "      <th>Product_Category_1</th>\n",
              "      <th>Product_Category_2</th>\n",
              "      <th>Product_Category_3</th>\n",
              "      <th>Purchase</th>\n",
              "    </tr>\n",
              "  </thead>\n",
              "  <tbody>\n",
              "    <tr>\n",
              "      <th>User_ID</th>\n",
              "      <td>1.000000</td>\n",
              "      <td>-0.031898</td>\n",
              "      <td>0.033359</td>\n",
              "      <td>-0.023024</td>\n",
              "      <td>0.024107</td>\n",
              "      <td>-0.030655</td>\n",
              "      <td>0.018732</td>\n",
              "      <td>0.003687</td>\n",
              "      <td>0.003663</td>\n",
              "      <td>0.003938</td>\n",
              "      <td>0.005389</td>\n",
              "    </tr>\n",
              "    <tr>\n",
              "      <th>Gender</th>\n",
              "      <td>-0.031898</td>\n",
              "      <td>1.000000</td>\n",
              "      <td>-0.004413</td>\n",
              "      <td>0.117294</td>\n",
              "      <td>-0.004129</td>\n",
              "      <td>0.015392</td>\n",
              "      <td>-0.010379</td>\n",
              "      <td>-0.045661</td>\n",
              "      <td>-0.001580</td>\n",
              "      <td>0.035813</td>\n",
              "      <td>0.060086</td>\n",
              "    </tr>\n",
              "    <tr>\n",
              "      <th>Age</th>\n",
              "      <td>0.033359</td>\n",
              "      <td>-0.004413</td>\n",
              "      <td>1.000000</td>\n",
              "      <td>0.091898</td>\n",
              "      <td>0.122308</td>\n",
              "      <td>-0.004754</td>\n",
              "      <td>0.312079</td>\n",
              "      <td>0.061951</td>\n",
              "      <td>0.019723</td>\n",
              "      <td>-0.006922</td>\n",
              "      <td>0.017717</td>\n",
              "    </tr>\n",
              "    <tr>\n",
              "      <th>Occupation</th>\n",
              "      <td>-0.023024</td>\n",
              "      <td>0.117294</td>\n",
              "      <td>0.091898</td>\n",
              "      <td>1.000000</td>\n",
              "      <td>0.033781</td>\n",
              "      <td>0.031203</td>\n",
              "      <td>0.024691</td>\n",
              "      <td>-0.008114</td>\n",
              "      <td>0.006792</td>\n",
              "      <td>0.011941</td>\n",
              "      <td>0.021104</td>\n",
              "    </tr>\n",
              "    <tr>\n",
              "      <th>City_Category</th>\n",
              "      <td>0.024107</td>\n",
              "      <td>-0.004129</td>\n",
              "      <td>0.122308</td>\n",
              "      <td>0.033781</td>\n",
              "      <td>1.000000</td>\n",
              "      <td>0.019948</td>\n",
              "      <td>0.040173</td>\n",
              "      <td>-0.027444</td>\n",
              "      <td>0.019535</td>\n",
              "      <td>0.037751</td>\n",
              "      <td>0.068507</td>\n",
              "    </tr>\n",
              "    <tr>\n",
              "      <th>Stay_In_Current_City_Years</th>\n",
              "      <td>-0.030655</td>\n",
              "      <td>0.015392</td>\n",
              "      <td>-0.004754</td>\n",
              "      <td>0.031203</td>\n",
              "      <td>0.019948</td>\n",
              "      <td>1.000000</td>\n",
              "      <td>-0.012663</td>\n",
              "      <td>-0.004182</td>\n",
              "      <td>0.001244</td>\n",
              "      <td>0.001992</td>\n",
              "      <td>0.005470</td>\n",
              "    </tr>\n",
              "    <tr>\n",
              "      <th>Marital_Status</th>\n",
              "      <td>0.018732</td>\n",
              "      <td>-0.010379</td>\n",
              "      <td>0.312079</td>\n",
              "      <td>0.024691</td>\n",
              "      <td>0.040173</td>\n",
              "      <td>-0.012663</td>\n",
              "      <td>1.000000</td>\n",
              "      <td>0.020546</td>\n",
              "      <td>0.001146</td>\n",
              "      <td>-0.004363</td>\n",
              "      <td>0.000129</td>\n",
              "    </tr>\n",
              "    <tr>\n",
              "      <th>Product_Category_1</th>\n",
              "      <td>0.003687</td>\n",
              "      <td>-0.045661</td>\n",
              "      <td>0.061951</td>\n",
              "      <td>-0.008114</td>\n",
              "      <td>-0.027444</td>\n",
              "      <td>-0.004182</td>\n",
              "      <td>0.020546</td>\n",
              "      <td>1.000000</td>\n",
              "      <td>-0.040730</td>\n",
              "      <td>-0.389048</td>\n",
              "      <td>-0.314125</td>\n",
              "    </tr>\n",
              "    <tr>\n",
              "      <th>Product_Category_2</th>\n",
              "      <td>0.003663</td>\n",
              "      <td>-0.001580</td>\n",
              "      <td>0.019723</td>\n",
              "      <td>0.006792</td>\n",
              "      <td>0.019535</td>\n",
              "      <td>0.001244</td>\n",
              "      <td>0.001146</td>\n",
              "      <td>-0.040730</td>\n",
              "      <td>1.000000</td>\n",
              "      <td>0.090284</td>\n",
              "      <td>0.038395</td>\n",
              "    </tr>\n",
              "    <tr>\n",
              "      <th>Product_Category_3</th>\n",
              "      <td>0.003938</td>\n",
              "      <td>0.035813</td>\n",
              "      <td>-0.006922</td>\n",
              "      <td>0.011941</td>\n",
              "      <td>0.037751</td>\n",
              "      <td>0.001992</td>\n",
              "      <td>-0.004363</td>\n",
              "      <td>-0.389048</td>\n",
              "      <td>0.090284</td>\n",
              "      <td>1.000000</td>\n",
              "      <td>0.284120</td>\n",
              "    </tr>\n",
              "    <tr>\n",
              "      <th>Purchase</th>\n",
              "      <td>0.005389</td>\n",
              "      <td>0.060086</td>\n",
              "      <td>0.017717</td>\n",
              "      <td>0.021104</td>\n",
              "      <td>0.068507</td>\n",
              "      <td>0.005470</td>\n",
              "      <td>0.000129</td>\n",
              "      <td>-0.314125</td>\n",
              "      <td>0.038395</td>\n",
              "      <td>0.284120</td>\n",
              "      <td>1.000000</td>\n",
              "    </tr>\n",
              "  </tbody>\n",
              "</table>\n",
              "</div>"
            ],
            "text/plain": [
              "                             User_ID    Gender  ...  Product_Category_3  Purchase\n",
              "User_ID                     1.000000 -0.031898  ...            0.003938  0.005389\n",
              "Gender                     -0.031898  1.000000  ...            0.035813  0.060086\n",
              "Age                         0.033359 -0.004413  ...           -0.006922  0.017717\n",
              "Occupation                 -0.023024  0.117294  ...            0.011941  0.021104\n",
              "City_Category               0.024107 -0.004129  ...            0.037751  0.068507\n",
              "Stay_In_Current_City_Years -0.030655  0.015392  ...            0.001992  0.005470\n",
              "Marital_Status              0.018732 -0.010379  ...           -0.004363  0.000129\n",
              "Product_Category_1          0.003687 -0.045661  ...           -0.389048 -0.314125\n",
              "Product_Category_2          0.003663 -0.001580  ...            0.090284  0.038395\n",
              "Product_Category_3          0.003938  0.035813  ...            1.000000  0.284120\n",
              "Purchase                    0.005389  0.060086  ...            0.284120  1.000000\n",
              "\n",
              "[11 rows x 11 columns]"
            ]
          },
          "metadata": {
            "tags": []
          },
          "execution_count": 36
        }
      ]
    },
    {
      "cell_type": "code",
      "metadata": {
        "id": "orJfeUbANC7h",
        "colab_type": "code",
        "outputId": "eb08f171-55fd-4934-a531-ad0230280fa8",
        "colab": {
          "base_uri": "https://localhost:8080/",
          "height": 34
        }
      },
      "source": [
        "cols_x = ['Gender', 'Age', 'Occupation', 'City_Category', \n",
        "          'Stay_In_Current_City_Years', 'Marital_Status',\n",
        "          'Product_Category_2', 'Product_Category_3', 'Purchase', ]   \n",
        "# целевой признак\n",
        "col_y = 'Product_Category_1'\n",
        "#разделение данных\n",
        "X_train, X_test, y_train, y_test = train_test_split(data[cols_x][0:50000], data[col_y][0:50000], test_size = 0.5, random_state = 11)\n",
        "N_train, _ = X_train.shape \n",
        "N_test,  _ = X_test.shape \n",
        "print (N_train, N_test)"
      ],
      "execution_count": 0,
      "outputs": [
        {
          "output_type": "stream",
          "text": [
            "25000 25000\n"
          ],
          "name": "stdout"
        }
      ]
    },
    {
      "cell_type": "markdown",
      "metadata": {
        "id": "kywu2_QD1sMQ",
        "colab_type": "text"
      },
      "source": [
        "## Функция перевода предсказанного признака в бинарный"
      ]
    },
    {
      "cell_type": "code",
      "metadata": {
        "id": "NCFWiMTxmqwe",
        "colab_type": "code",
        "colab": {}
      },
      "source": [
        "def convert_target_to_binary(array:np.ndarray, target:int) -> np.ndarray:\n",
        "    # Если целевой признак совпадает с указанным, то 1 иначе 0\n",
        "    res = [1 if x==target else 0 for x in array]\n",
        "    return res"
      ],
      "execution_count": 0,
      "outputs": []
    },
    {
      "cell_type": "code",
      "metadata": {
        "id": "z8ywGazhmzMT",
        "colab_type": "code",
        "outputId": "d5bc9f65-3c4f-4372-c33a-954e881e0ac0",
        "colab": {
          "base_uri": "https://localhost:8080/",
          "height": 272
        }
      },
      "source": [
        "# Если целевой признак == 8, \n",
        "# то будем считать этот случай 1 в бинарном признаке\n",
        "bin_y_test = convert_target_to_binary(y_test, 8)\n",
        "list(zip(y_test, bin_y_test))[0:15]"
      ],
      "execution_count": 0,
      "outputs": [
        {
          "output_type": "execute_result",
          "data": {
            "text/plain": [
              "[(5, 0),\n",
              " (2, 0),\n",
              " (5, 0),\n",
              " (11, 0),\n",
              " (1, 0),\n",
              " (1, 0),\n",
              " (6, 0),\n",
              " (11, 0),\n",
              " (8, 1),\n",
              " (4, 0),\n",
              " (4, 0),\n",
              " (16, 0),\n",
              " (1, 0),\n",
              " (8, 1),\n",
              " (8, 1)]"
            ]
          },
          "metadata": {
            "tags": []
          },
          "execution_count": 16
        }
      ]
    },
    {
      "cell_type": "markdown",
      "metadata": {
        "id": "ivHiAEUp113f",
        "colab_type": "text"
      },
      "source": [
        "# Модели без подобранных параметров "
      ]
    },
    {
      "cell_type": "markdown",
      "metadata": {
        "id": "n_KwyZ3H6s_N",
        "colab_type": "text"
      },
      "source": [
        "## K-ближайших соседей"
      ]
    },
    {
      "cell_type": "code",
      "metadata": {
        "id": "BI4Nd1tjKTTW",
        "colab_type": "code",
        "colab": {}
      },
      "source": [
        "KNeighborsClassifierObj = KNeighborsClassifier(n_neighbors = 3)"
      ],
      "execution_count": 0,
      "outputs": []
    },
    {
      "cell_type": "code",
      "metadata": {
        "id": "yFLd6UlaKjmP",
        "colab_type": "code",
        "colab": {}
      },
      "source": [
        "KNeighborsClassifierObj.fit(X_train, y_train)\n",
        "target_knei = KNeighborsClassifierObj.predict(X_test)"
      ],
      "execution_count": 0,
      "outputs": []
    },
    {
      "cell_type": "code",
      "metadata": {
        "id": "EACqPEijmvIA",
        "colab_type": "code",
        "colab": {}
      },
      "source": [
        "# Конвертация предсказанных признаков\n",
        "bin_target_knei = convert_target_to_binary(target_knei, 8)"
      ],
      "execution_count": 0,
      "outputs": []
    },
    {
      "cell_type": "code",
      "metadata": {
        "id": "nr02wtY_Kx6o",
        "colab_type": "code",
        "outputId": "0b981f2a-30dc-4798-afaa-298c1c53b9de",
        "colab": {
          "base_uri": "https://localhost:8080/",
          "height": 68
        }
      },
      "source": [
        "ac_knei = accuracy_score(y_test, target_knei)\n",
        "bas_knei = balanced_accuracy_score(bin_y_test, bin_target_knei)\n",
        "rec_knei = recall_score(bin_y_test, bin_target_knei)\n",
        "print('''accuracy_score: {0}\n",
        "balanced_accuracy_score: {1}\n",
        "recall_score: {2}'''.format(ac_knei, bas_knei, rec_knei))"
      ],
      "execution_count": 0,
      "outputs": [
        {
          "output_type": "stream",
          "text": [
            "accuracy_score: 0.87892\n",
            "balanced_accuracy_score: 0.9446752419437592\n",
            "recall_score: 0.9306682116647355\n"
          ],
          "name": "stdout"
        }
      ]
    },
    {
      "cell_type": "markdown",
      "metadata": {
        "id": "T_EseHQm6_4a",
        "colab_type": "text"
      },
      "source": [
        "## Градиентный спуск "
      ]
    },
    {
      "cell_type": "code",
      "metadata": {
        "id": "kpuLeCix7DQi",
        "colab_type": "code",
        "colab": {}
      },
      "source": [
        "grad = SGDClassifier().fit(X_train, y_train)\n",
        "target_grad = grad.predict(X_test)"
      ],
      "execution_count": 0,
      "outputs": []
    },
    {
      "cell_type": "code",
      "metadata": {
        "id": "4tBTYr-Q7dvG",
        "colab_type": "code",
        "colab": {}
      },
      "source": [
        "# Конвертация предсказанных признаков\n",
        "bin_target_grad = convert_target_to_binary(target_grad, 8)"
      ],
      "execution_count": 0,
      "outputs": []
    },
    {
      "cell_type": "code",
      "metadata": {
        "id": "iyKmAypYn2QU",
        "colab_type": "code",
        "outputId": "fdcdc194-89a3-47bd-f1f2-61a8b0645be6",
        "colab": {
          "base_uri": "https://localhost:8080/",
          "height": 68
        }
      },
      "source": [
        "ac_grad = accuracy_score(y_test, target_grad)\n",
        "bas_grad = balanced_accuracy_score(bin_y_test, bin_target_grad)\n",
        "rec_grad = recall_score(bin_y_test, bin_target_grad)\n",
        "print('''accuracy_score: {0}\n",
        "balanced_accuracy_score: {1}\n",
        "recall_score: {2}'''.format(ac_grad, bas_grad, rec_grad))"
      ],
      "execution_count": 0,
      "outputs": [
        {
          "output_type": "stream",
          "text": [
            "accuracy_score: 0.04544\n",
            "balanced_accuracy_score: 0.4987363880755799\n",
            "recall_score: 0.028196214754731556\n"
          ],
          "name": "stdout"
        }
      ]
    },
    {
      "cell_type": "markdown",
      "metadata": {
        "id": "Kuiob59S9cB3",
        "colab_type": "text"
      },
      "source": [
        "## Дерево принятия решений"
      ]
    },
    {
      "cell_type": "code",
      "metadata": {
        "id": "yxhs50gG9oxb",
        "colab_type": "code",
        "colab": {}
      },
      "source": [
        "dtcl = DecisionTreeClassifier().fit(X_train, y_train)\n",
        "target_dtc = dtcl.predict(X_test)"
      ],
      "execution_count": 0,
      "outputs": []
    },
    {
      "cell_type": "code",
      "metadata": {
        "id": "LVfHVPNB97QF",
        "colab_type": "code",
        "colab": {}
      },
      "source": [
        "# Конвертация предсказанных признаков\n",
        "bin_target_dtc = convert_target_to_binary(target_dtc, 8)"
      ],
      "execution_count": 0,
      "outputs": []
    },
    {
      "cell_type": "code",
      "metadata": {
        "id": "NTQGRAPCoSgW",
        "colab_type": "code",
        "outputId": "e3c2af8b-78f0-48f8-a19e-a6225ea60b07",
        "colab": {
          "base_uri": "https://localhost:8080/",
          "height": 68
        }
      },
      "source": [
        "ac_dtc = accuracy_score(y_test, target_dtc)\n",
        "bas_dtc = balanced_accuracy_score(bin_y_test, bin_target_dtc)\n",
        "rec_dtc = recall_score(bin_y_test, bin_target_dtc)\n",
        "print('''accuracy_score: {0}\n",
        "balanced_accuracy_score: {1}\n",
        "recall_score: {2}'''.format(ac_dtc, bas_dtc, rec_dtc))"
      ],
      "execution_count": 0,
      "outputs": [
        {
          "output_type": "stream",
          "text": [
            "accuracy_score: 0.90616\n",
            "balanced_accuracy_score: 0.9408931650827164\n",
            "recall_score: 0.9036307454615682\n"
          ],
          "name": "stdout"
        }
      ]
    },
    {
      "cell_type": "markdown",
      "metadata": {
        "id": "z3vidsBFlQC1",
        "colab_type": "text"
      },
      "source": [
        "## Модель бэггинга"
      ]
    },
    {
      "cell_type": "code",
      "metadata": {
        "id": "X5uZ0QiglQ92",
        "colab_type": "code",
        "colab": {}
      },
      "source": [
        "bag = BaggingClassifier(DecisionTreeClassifier(random_state=1), n_estimators=10).fit(X_train, y_train)\n",
        "target_bag = bag.predict(X_test)"
      ],
      "execution_count": 0,
      "outputs": []
    },
    {
      "cell_type": "code",
      "metadata": {
        "id": "yBVkOKYZlfcT",
        "colab_type": "code",
        "colab": {}
      },
      "source": [
        "# Конвертация предсказанных признаков\n",
        "bin_target_bag = convert_target_to_binary(target_bag, 8)"
      ],
      "execution_count": 0,
      "outputs": []
    },
    {
      "cell_type": "code",
      "metadata": {
        "id": "1i0OqpZipRPJ",
        "colab_type": "code",
        "outputId": "e0a3d595-8ffa-4cee-82e8-a902e4f136dd",
        "colab": {
          "base_uri": "https://localhost:8080/",
          "height": 68
        }
      },
      "source": [
        "ac_bag = accuracy_score(y_test, target_bag)\n",
        "bas_bag = balanced_accuracy_score(bin_y_test, bin_target_bag)\n",
        "rec_bag = recall_score(bin_y_test, bin_target_bag)\n",
        "print('''accuracy_score: {0}\n",
        "balanced_accuracy_score: {1}\n",
        "recall_score: {2}'''.format(ac_bag, bas_bag, rec_bag))"
      ],
      "execution_count": 0,
      "outputs": [
        {
          "output_type": "stream",
          "text": [
            "accuracy_score: 0.92584\n",
            "balanced_accuracy_score: 0.9647756009558848\n",
            "recall_score: 0.9544225569718038\n"
          ],
          "name": "stdout"
        }
      ]
    },
    {
      "cell_type": "markdown",
      "metadata": {
        "id": "zZA2FySElki5",
        "colab_type": "text"
      },
      "source": [
        "## Случайный лес"
      ]
    },
    {
      "cell_type": "code",
      "metadata": {
        "id": "HovV4i8SloRz",
        "colab_type": "code",
        "colab": {}
      },
      "source": [
        "forest = RandomForestClassifier(random_state=1, max_features = 2).fit(X_train, y_train)\n",
        "target_forest = forest.predict(X_test)"
      ],
      "execution_count": 0,
      "outputs": []
    },
    {
      "cell_type": "code",
      "metadata": {
        "id": "Fmp4JOrKltfi",
        "colab_type": "code",
        "colab": {}
      },
      "source": [
        "# Конвертация предсказанных признаков\n",
        "bin_target_forest = convert_target_to_binary(target_forest, 8)"
      ],
      "execution_count": 0,
      "outputs": []
    },
    {
      "cell_type": "code",
      "metadata": {
        "id": "Kl_1ceiOpwdi",
        "colab_type": "code",
        "outputId": "d8ecb053-17de-4a9d-8c40-27face3d42fe",
        "colab": {
          "base_uri": "https://localhost:8080/",
          "height": 68
        }
      },
      "source": [
        "ac_forest = accuracy_score(y_test, target_forest)\n",
        "bas_forest = balanced_accuracy_score(bin_y_test, bin_target_forest)\n",
        "rec_forest = recall_score(bin_y_test, bin_target_forest)\n",
        "print('''accuracy_score: {0}\n",
        "balanced_accuracy_score: {1}\n",
        "recall_score: {2}'''.format(ac_forest, bas_forest, rec_forest))"
      ],
      "execution_count": 0,
      "outputs": [
        {
          "output_type": "stream",
          "text": [
            "accuracy_score: 0.79264\n",
            "balanced_accuracy_score: 0.8888389205450331\n",
            "recall_score: 0.8346852066434917\n"
          ],
          "name": "stdout"
        }
      ]
    },
    {
      "cell_type": "markdown",
      "metadata": {
        "id": "KGMq6_Z12Iaa",
        "colab_type": "text"
      },
      "source": [
        "# Подбор гиперпараметров с использованием GridSearchCV и кросс-валидации"
      ]
    },
    {
      "cell_type": "markdown",
      "metadata": {
        "id": "DoydlaAZz-K8",
        "colab_type": "text"
      },
      "source": [
        "## K- ближайших соседей"
      ]
    },
    {
      "cell_type": "code",
      "metadata": {
        "id": "mjh9mEPE2UyY",
        "colab_type": "code",
        "outputId": "7143b062-33cd-4c36-e4a9-e9455bfbe700",
        "colab": {
          "base_uri": "https://localhost:8080/",
          "height": 71
        }
      },
      "source": [
        "n_range_knei = np.array(range(1,30,1))\n",
        "tuned_parameters_knei = [{'n_neighbors': n_range_knei}]\n",
        "tuned_parameters_knei"
      ],
      "execution_count": 0,
      "outputs": [
        {
          "output_type": "execute_result",
          "data": {
            "text/plain": [
              "[{'n_neighbors': array([ 1,  2,  3,  4,  5,  6,  7,  8,  9, 10, 11, 12, 13, 14, 15, 16, 17,\n",
              "         18, 19, 20, 21, 22, 23, 24, 25, 26, 27, 28, 29])}]"
            ]
          },
          "metadata": {
            "tags": []
          },
          "execution_count": 132
        }
      ]
    },
    {
      "cell_type": "markdown",
      "metadata": {
        "id": "u5TAPfdVYyZV",
        "colab_type": "text"
      },
      "source": [
        "Из-за большого объема данных, подбор параметров проходит не на всем датасете, а только на его части"
      ]
    },
    {
      "cell_type": "code",
      "metadata": {
        "id": "Yd9nPsEr0zGC",
        "colab_type": "code",
        "colab": {}
      },
      "source": [
        "knei_gs = GridSearchCV(KNeighborsClassifier(), tuned_parameters_knei, cv=KFold(n_splits=5), scoring= 'accuracy')\n",
        "knei_gs.fit(data[cols_x][0:10000], data[col_y][0:10000])"
      ],
      "execution_count": 0,
      "outputs": []
    },
    {
      "cell_type": "code",
      "metadata": {
        "id": "yuAg6w0X8iwC",
        "colab_type": "code",
        "outputId": "b48acbfa-6bfa-4664-b676-860cb70311c5",
        "colab": {
          "base_uri": "https://localhost:8080/",
          "height": 34
        }
      },
      "source": [
        "knei_gs.best_params_"
      ],
      "execution_count": 0,
      "outputs": [
        {
          "output_type": "execute_result",
          "data": {
            "text/plain": [
              "{'n_neighbors': 5}"
            ]
          },
          "metadata": {
            "tags": []
          },
          "execution_count": 143
        }
      ]
    },
    {
      "cell_type": "markdown",
      "metadata": {
        "id": "-xwCT59Y4Pxe",
        "colab_type": "text"
      },
      "source": [
        "### Обучение с подобранным параметром\n",
        "\n"
      ]
    },
    {
      "cell_type": "code",
      "metadata": {
        "id": "kpSywlPt4Ljc",
        "colab_type": "code",
        "colab": {}
      },
      "source": [
        "knei_gs.best_estimator_.fit(X_train, y_train)\n",
        "target_knei_gs = knei_gs.best_estimator_.predict(X_test)"
      ],
      "execution_count": 0,
      "outputs": []
    },
    {
      "cell_type": "markdown",
      "metadata": {
        "id": "lAeoEgnXApWr",
        "colab_type": "text"
      },
      "source": [
        "### Проверка качества модели"
      ]
    },
    {
      "cell_type": "code",
      "metadata": {
        "id": "E2cBkJ3M4gjn",
        "colab_type": "code",
        "colab": {}
      },
      "source": [
        "# Конвертация предсказанных признаков\n",
        "bin_target_knei_gs = convert_target_to_binary(target_knei_gs, 8)"
      ],
      "execution_count": 0,
      "outputs": []
    },
    {
      "cell_type": "code",
      "metadata": {
        "id": "zT1mQDFI4mMG",
        "colab_type": "code",
        "outputId": "32eca989-5971-4369-acfd-c4b38c21f4cf",
        "colab": {
          "base_uri": "https://localhost:8080/",
          "height": 68
        }
      },
      "source": [
        "ac_knei_gs = accuracy_score(y_test, target_knei_gs)\n",
        "bas_knei_gs = balanced_accuracy_score(bin_y_test, bin_target_knei_gs)\n",
        "rec_knei_gs = recall_score(bin_y_test, bin_target_knei_gs)\n",
        "print('''accuracy_score          с gs: {0}, без gs: {3}\n",
        "balanced_accuracy_score с gs: {1}, без gs: {4}\n",
        "recall_score            с gs: {2}, без gs: {5}'''.format(round(ac_knei_gs,3), \n",
        "round(bas_knei_gs, 3), round(rec_knei_gs, 3), round(ac_knei, 3), \n",
        "round(bas_knei, 3), round(rec_knei, 3)))"
      ],
      "execution_count": 0,
      "outputs": [
        {
          "output_type": "stream",
          "text": [
            "accuracy_score          с gs: 0.878, без gs: 0.879\n",
            "balanced_accuracy_score с gs: 0.952, без gs: 0.945\n",
            "recall_score            с gs: 0.949, без gs: 0.931\n"
          ],
          "name": "stdout"
        }
      ]
    },
    {
      "cell_type": "code",
      "metadata": {
        "id": "3Z0PXkdG34sL",
        "colab_type": "code",
        "outputId": "ba3e4a96-5f29-4f0e-e60f-78a417658aa5",
        "colab": {
          "base_uri": "https://localhost:8080/",
          "height": 286
        }
      },
      "source": [
        "# Изменение качества на обучающей выборке\n",
        "plt.plot(n_range_knei, knei_gs.cv_results_['mean_test_score'])"
      ],
      "execution_count": 0,
      "outputs": [
        {
          "output_type": "execute_result",
          "data": {
            "text/plain": [
              "[<matplotlib.lines.Line2D at 0x7fd73034bcf8>]"
            ]
          },
          "metadata": {
            "tags": []
          },
          "execution_count": 44
        },
        {
          "output_type": "display_data",
          "data": {
            "image/png": "[encoded data removed]",
            "text/plain": [
              "<Figure size 432x288 with 1 Axes>"
            ]
          },
          "metadata": {
            "tags": []
          }
        }
      ]
    },
    {
      "cell_type": "markdown",
      "metadata": {
        "id": "Rx18XDsF6w-k",
        "colab_type": "text"
      },
      "source": [
        "## Градиентный спуск"
      ]
    },
    {
      "cell_type": "code",
      "metadata": {
        "id": "O-onnIiU65SZ",
        "colab_type": "code",
        "outputId": "72d52774-95de-485f-bcfe-f26b76b362d1",
        "colab": {
          "base_uri": "https://localhost:8080/",
          "height": 105
        }
      },
      "source": [
        "n_range_grad = np.array(np.arange(0.0001,1,0.05))\n",
        "tuned_parameters = [{'alpha': n_range_grad}]\n",
        "tuned_parameters"
      ],
      "execution_count": 0,
      "outputs": [
        {
          "output_type": "execute_result",
          "data": {
            "text/plain": [
              "[{'alpha': array([1.000e-04, 5.010e-02, 1.001e-01, 1.501e-01, 2.001e-01, 2.501e-01,\n",
              "         3.001e-01, 3.501e-01, 4.001e-01, 4.501e-01, 5.001e-01, 5.501e-01,\n",
              "         6.001e-01, 6.501e-01, 7.001e-01, 7.501e-01, 8.001e-01, 8.501e-01,\n",
              "         9.001e-01, 9.501e-01])}]"
            ]
          },
          "metadata": {
            "tags": []
          },
          "execution_count": 47
        }
      ]
    },
    {
      "cell_type": "code",
      "metadata": {
        "id": "13JWs2rY7XLT",
        "colab_type": "code",
        "outputId": "57eebb5a-0c65-4759-ce3d-624513573fc0",
        "colab": {
          "base_uri": "https://localhost:8080/",
          "height": 34
        }
      },
      "source": [
        "grad_gs = GridSearchCV(SGDClassifier(), tuned_parameters, cv=KFold(n_splits=5), scoring='accuracy')\n",
        "grad_gs.fit(data[cols_x][0:1000], data[col_y][0:1000])\n",
        "grad_gs.best_params_"
      ],
      "execution_count": 0,
      "outputs": [
        {
          "output_type": "execute_result",
          "data": {
            "text/plain": [
              "{'alpha': 0.10010000000000001}"
            ]
          },
          "metadata": {
            "tags": []
          },
          "execution_count": 48
        }
      ]
    },
    {
      "cell_type": "markdown",
      "metadata": {
        "id": "FI6-fUZ07pUF",
        "colab_type": "text"
      },
      "source": [
        "### Обучение с подобранным параметром\n",
        "\n"
      ]
    },
    {
      "cell_type": "code",
      "metadata": {
        "id": "HfhxDGpa7p7Z",
        "colab_type": "code",
        "colab": {}
      },
      "source": [
        "grad_gs.best_estimator_.fit(X_train, y_train)\n",
        "target_grad_gs = grad_gs.best_estimator_.predict(X_test)"
      ],
      "execution_count": 0,
      "outputs": []
    },
    {
      "cell_type": "markdown",
      "metadata": {
        "id": "55bIyr68An5l",
        "colab_type": "text"
      },
      "source": [
        "### Проверка качества модели"
      ]
    },
    {
      "cell_type": "code",
      "metadata": {
        "id": "MNcMdDHr79U1",
        "colab_type": "code",
        "colab": {}
      },
      "source": [
        "# Конвертация предсказанных признаков\n",
        "bin_target_grad_gs = convert_target_to_binary(target_grad_gs, 8)"
      ],
      "execution_count": 0,
      "outputs": []
    },
    {
      "cell_type": "code",
      "metadata": {
        "id": "B546z-Lw8C5A",
        "colab_type": "code",
        "outputId": "c95f6201-c4c8-4fc1-9e23-3cbfd832836b",
        "colab": {
          "base_uri": "https://localhost:8080/",
          "height": 68
        }
      },
      "source": [
        "ac_grad_gs = accuracy_score(y_test, target_grad_gs)\n",
        "bas_grad_gs = balanced_accuracy_score(bin_y_test, bin_target_grad_gs)\n",
        "rec_grad_gs = recall_score(bin_y_test, bin_target_grad_gs)\n",
        "print('''accuracy_score          с gs: {0}, без gs: {3}\n",
        "balanced_accuracy_score с gs: {1}, без gs: {4}\n",
        "recall_score            с gs: {2}, без gs: {5}'''.format(round(ac_grad_gs,3), \n",
        "round(bas_grad_gs, 3), round(rec_grad_gs, 3), round(ac_grad, 3), \n",
        "round(bas_grad, 3), round(rec_grad, 3)))"
      ],
      "execution_count": 0,
      "outputs": [
        {
          "output_type": "stream",
          "text": [
            "accuracy_score          с gs: 0.363, без gs: 0.045\n",
            "balanced_accuracy_score с gs: 0.5, без gs: 0.499\n",
            "recall_score            с gs: 0.0, без gs: 0.028\n"
          ],
          "name": "stdout"
        }
      ]
    },
    {
      "cell_type": "code",
      "metadata": {
        "id": "e1DZwQOu5PGD",
        "colab_type": "code",
        "outputId": "031932c0-4ab8-4b90-eeaf-9d7ef9633717",
        "colab": {
          "base_uri": "https://localhost:8080/",
          "height": 286
        }
      },
      "source": [
        "# Изменение качества на обучающей выборке\n",
        "plt.plot(n_range_grad, grad_gs.cv_results_['mean_test_score'])"
      ],
      "execution_count": 0,
      "outputs": [
        {
          "output_type": "execute_result",
          "data": {
            "text/plain": [
              "[<matplotlib.lines.Line2D at 0x7fd73018f0b8>]"
            ]
          },
          "metadata": {
            "tags": []
          },
          "execution_count": 52
        },
        {
          "output_type": "display_data",
          "data": {
            "image/png": "[encoded data removed]",
            "text/plain": [
              "<Figure size 432x288 with 1 Axes>"
            ]
          },
          "metadata": {
            "tags": []
          }
        }
      ]
    },
    {
      "cell_type": "markdown",
      "metadata": {
        "id": "U3CGrMoQ_TPI",
        "colab_type": "text"
      },
      "source": [
        "## Дерево принятия решений"
      ]
    },
    {
      "cell_type": "code",
      "metadata": {
        "id": "TjJrFyiP_c6F",
        "colab_type": "code",
        "outputId": "1637ad38-959f-4d40-8e02-ef115a9841bf",
        "colab": {
          "base_uri": "https://localhost:8080/",
          "height": 88
        }
      },
      "source": [
        "n_range_dtc = np.array(range(1,1000,30))\n",
        "tuned_parameters_dtc = [{'max_depth': n_range_dtc}]\n",
        "tuned_parameters_dtc"
      ],
      "execution_count": 0,
      "outputs": [
        {
          "output_type": "execute_result",
          "data": {
            "text/plain": [
              "[{'max_depth': array([  1,  31,  61,  91, 121, 151, 181, 211, 241, 271, 301, 331, 361,\n",
              "         391, 421, 451, 481, 511, 541, 571, 601, 631, 661, 691, 721, 751,\n",
              "         781, 811, 841, 871, 901, 931, 961, 991])}]"
            ]
          },
          "metadata": {
            "tags": []
          },
          "execution_count": 53
        }
      ]
    },
    {
      "cell_type": "code",
      "metadata": {
        "id": "OBuH4qWL_2hP",
        "colab_type": "code",
        "outputId": "60656257-8cca-4721-eebe-4a9554f3ddab",
        "colab": {
          "base_uri": "https://localhost:8080/",
          "height": 34
        }
      },
      "source": [
        "dtc_gs = GridSearchCV(DecisionTreeClassifier(), tuned_parameters_dtc, cv=KFold(n_splits=10), scoring= 'accuracy')\n",
        "dtc_gs.fit(data[cols_x][0:100000], data[col_y][0:100000])\n",
        "dtc_gs.best_params_"
      ],
      "execution_count": 0,
      "outputs": [
        {
          "output_type": "execute_result",
          "data": {
            "text/plain": [
              "{'max_depth': 991}"
            ]
          },
          "metadata": {
            "tags": []
          },
          "execution_count": 54
        }
      ]
    },
    {
      "cell_type": "markdown",
      "metadata": {
        "id": "sW3VVyw7__oV",
        "colab_type": "text"
      },
      "source": [
        "### Обучение с подобранным параметром\n",
        "\n"
      ]
    },
    {
      "cell_type": "code",
      "metadata": {
        "id": "O9OmuQzL_5WH",
        "colab_type": "code",
        "colab": {}
      },
      "source": [
        "dtc_gs.best_estimator_.fit(X_train, y_train)\n",
        "target_dtc_gs = dtc_gs.best_estimator_.predict(X_test)"
      ],
      "execution_count": 0,
      "outputs": []
    },
    {
      "cell_type": "markdown",
      "metadata": {
        "id": "GH6doqqcAjhF",
        "colab_type": "text"
      },
      "source": [
        "### Проверка качества модели"
      ]
    },
    {
      "cell_type": "code",
      "metadata": {
        "id": "S_u1hc4xAHJi",
        "colab_type": "code",
        "colab": {}
      },
      "source": [
        "# Конвертация предсказанных признаков\n",
        "bin_target_dtc_gs = convert_target_to_binary(target_dtc_gs, 8)"
      ],
      "execution_count": 0,
      "outputs": []
    },
    {
      "cell_type": "code",
      "metadata": {
        "id": "facvaHeeAI2I",
        "colab_type": "code",
        "outputId": "121602d1-1878-403a-ad32-6c4162ef2ffb",
        "colab": {
          "base_uri": "https://localhost:8080/",
          "height": 68
        }
      },
      "source": [
        "ac_dtc_gs = accuracy_score(y_test, target_dtc_gs)\n",
        "bas_dtc_gs = balanced_accuracy_score(bin_y_test, bin_target_dtc_gs)\n",
        "rec_dtc_gs = recall_score(bin_y_test, bin_target_dtc_gs)\n",
        "print('''accuracy_score          с gs: {0}, без gs: {3}\n",
        "balanced_accuracy_score с gs: {1}, без gs: {4}\n",
        "recall_score            с gs: {2}, без gs: {5}'''.format(round(ac_dtc_gs,3), \n",
        "round(bas_dtc_gs, 3), round(rec_dtc_gs, 3), round(ac_dtc, 3), \n",
        "round(bas_dtc, 3), round(rec_dtc, 3)))"
      ],
      "execution_count": 0,
      "outputs": [
        {
          "output_type": "stream",
          "text": [
            "accuracy_score          с gs: 0.908, без gs: 0.906\n",
            "balanced_accuracy_score с gs: 0.94, без gs: 0.941\n",
            "recall_score            с gs: 0.902, без gs: 0.904\n"
          ],
          "name": "stdout"
        }
      ]
    },
    {
      "cell_type": "code",
      "metadata": {
        "id": "agQOo0ya5skH",
        "colab_type": "code",
        "outputId": "66326810-cf61-4483-cf40-660d20726256",
        "colab": {
          "base_uri": "https://localhost:8080/",
          "height": 286
        }
      },
      "source": [
        "# Изменение качества на обучающей выборке\n",
        "plt.plot(n_range_dtc, dtc_gs.cv_results_['mean_test_score'])"
      ],
      "execution_count": 0,
      "outputs": [
        {
          "output_type": "execute_result",
          "data": {
            "text/plain": [
              "[<matplotlib.lines.Line2D at 0x7fd730154cf8>]"
            ]
          },
          "metadata": {
            "tags": []
          },
          "execution_count": 59
        },
        {
          "output_type": "display_data",
          "data": {
            "image/png": "[encoded data removed]",
            "text/plain": [
              "<Figure size 432x288 with 1 Axes>"
            ]
          },
          "metadata": {
            "tags": []
          }
        }
      ]
    },
    {
      "cell_type": "markdown",
      "metadata": {
        "id": "FRhI-31ZBnit",
        "colab_type": "text"
      },
      "source": [
        "## Модель бэггинга"
      ]
    },
    {
      "cell_type": "code",
      "metadata": {
        "id": "NgWE646sBuhK",
        "colab_type": "code",
        "outputId": "8d9c8272-c8ce-4f5c-ca79-342b3a27142f",
        "colab": {
          "base_uri": "https://localhost:8080/",
          "height": 71
        }
      },
      "source": [
        "n_range_bag = np.array(range(1,202,10))\n",
        "tuned_parameters = [{'n_estimators': n_range_bag}]\n",
        "tuned_parameters"
      ],
      "execution_count": 0,
      "outputs": [
        {
          "output_type": "execute_result",
          "data": {
            "text/plain": [
              "[{'n_estimators': array([  1,  11,  21,  31,  41,  51,  61,  71,  81,  91, 101, 111, 121,\n",
              "         131, 141, 151, 161, 171, 181, 191, 201])}]"
            ]
          },
          "metadata": {
            "tags": []
          },
          "execution_count": 78
        }
      ]
    },
    {
      "cell_type": "code",
      "metadata": {
        "id": "ekVEMxbKB5AW",
        "colab_type": "code",
        "outputId": "02aff941-b8f5-4f24-a86b-7422eba2d686",
        "colab": {
          "base_uri": "https://localhost:8080/",
          "height": 34
        }
      },
      "source": [
        "bag_gs = GridSearchCV(BaggingClassifier(DecisionTreeClassifier()), tuned_parameters, cv=KFold(n_splits=5), scoring='accuracy')\n",
        "bag_gs.fit(data[cols_x][0:5000], data[col_y][0:5000])\n",
        "bag_gs.best_params_"
      ],
      "execution_count": 0,
      "outputs": [
        {
          "output_type": "execute_result",
          "data": {
            "text/plain": [
              "{'n_estimators': 51}"
            ]
          },
          "metadata": {
            "tags": []
          },
          "execution_count": 61
        }
      ]
    },
    {
      "cell_type": "markdown",
      "metadata": {
        "id": "y_CZk9POCK0e",
        "colab_type": "text"
      },
      "source": [
        "### Обучение с подобранным параметром\n",
        "\n"
      ]
    },
    {
      "cell_type": "code",
      "metadata": {
        "id": "JS9BVVsPCLj3",
        "colab_type": "code",
        "colab": {}
      },
      "source": [
        "bag_gs.best_estimator_.fit(X_train, y_train)\n",
        "target_bag_gs = bag_gs.best_estimator_.predict(X_test)"
      ],
      "execution_count": 0,
      "outputs": []
    },
    {
      "cell_type": "markdown",
      "metadata": {
        "id": "PBh6-r0qCV2p",
        "colab_type": "text"
      },
      "source": [
        "### Проверка качества модели"
      ]
    },
    {
      "cell_type": "code",
      "metadata": {
        "id": "eQ71VM5SCZCF",
        "colab_type": "code",
        "colab": {}
      },
      "source": [
        "# Конвертация предсказанных признаков\n",
        "bin_target_bag_gs = convert_target_to_binary(target_bag_gs, 6)"
      ],
      "execution_count": 0,
      "outputs": []
    },
    {
      "cell_type": "code",
      "metadata": {
        "id": "OYj4M3gaCdMy",
        "colab_type": "code",
        "outputId": "917bfcac-1ffb-46e9-b98f-8ed12030c609",
        "colab": {
          "base_uri": "https://localhost:8080/",
          "height": 68
        }
      },
      "source": [
        "ac_bag_gs = accuracy_score(y_test, target_bag_gs)\n",
        "bas_bag_gs = balanced_accuracy_score(bin_y_test, bin_target_bag_gs)\n",
        "rec_bag_gs = recall_score(bin_y_test, bin_target_bag_gs)\n",
        "print('''accuracy_score          с gs: {0}, без gs: {3}\n",
        "balanced_accuracy_score с gs: {1}, без gs: {4}\n",
        "recall_score            с gs: {2}, без gs: {5}'''.format(round(ac_bag_gs,3), \n",
        "round(bas_bag_gs, 3), round(rec_bag_gs, 3), round(ac_bag, 3), \n",
        "round(bas_bag, 3), round(rec_bag, 3)))"
      ],
      "execution_count": 0,
      "outputs": [
        {
          "output_type": "stream",
          "text": [
            "accuracy_score          с gs: 0.932, без gs: 0.926\n",
            "balanced_accuracy_score с gs: 0.477, без gs: 0.965\n",
            "recall_score            с gs: 0.0, без gs: 0.954\n"
          ],
          "name": "stdout"
        }
      ]
    },
    {
      "cell_type": "code",
      "metadata": {
        "id": "c8_zX8Ic6eP2",
        "colab_type": "code",
        "outputId": "d296b078-c6ca-4dc7-9e76-9cc4f82b9ab2",
        "colab": {
          "base_uri": "https://localhost:8080/",
          "height": 286
        }
      },
      "source": [
        "# Изменение качества на обучающей выборке\n",
        "plt.plot(n_range_bag, bag_gs.cv_results_['mean_test_score'])"
      ],
      "execution_count": 0,
      "outputs": [
        {
          "output_type": "execute_result",
          "data": {
            "text/plain": [
              "[<matplotlib.lines.Line2D at 0x7fd7300a1f98>]"
            ]
          },
          "metadata": {
            "tags": []
          },
          "execution_count": 66
        },
        {
          "output_type": "display_data",
          "data": {
            "image/png": "[encoded data removed]",
            "text/plain": [
              "<Figure size 432x288 with 1 Axes>"
            ]
          },
          "metadata": {
            "tags": []
          }
        }
      ]
    },
    {
      "cell_type": "markdown",
      "metadata": {
        "id": "kMuLmZNoRu3d",
        "colab_type": "text"
      },
      "source": [
        "## Случайный лес"
      ]
    },
    {
      "cell_type": "code",
      "metadata": {
        "id": "bbd7n4JpR3J3",
        "colab_type": "code",
        "outputId": "c44a5fbc-3eba-47e5-d099-a84c3915b8cf",
        "colab": {
          "base_uri": "https://localhost:8080/",
          "height": 88
        }
      },
      "source": [
        "n_range_forest = np.array(range(1,1000,30))\n",
        "tuned_parameters_forest = [{'max_depth': n_range_forest}]\n",
        "tuned_parameters_forest"
      ],
      "execution_count": 0,
      "outputs": [
        {
          "output_type": "execute_result",
          "data": {
            "text/plain": [
              "[{'max_depth': array([  1,  31,  61,  91, 121, 151, 181, 211, 241, 271, 301, 331, 361,\n",
              "         391, 421, 451, 481, 511, 541, 571, 601, 631, 661, 691, 721, 751,\n",
              "         781, 811, 841, 871, 901, 931, 961, 991])}]"
            ]
          },
          "metadata": {
            "tags": []
          },
          "execution_count": 79
        }
      ]
    },
    {
      "cell_type": "code",
      "metadata": {
        "id": "oLsxkv65SI1k",
        "colab_type": "code",
        "colab": {}
      },
      "source": [
        "forest_gs = GridSearchCV(RandomForestClassifier(), tuned_parameters_forest, cv=KFold(n_splits=5), scoring='accuracy')\n",
        "forest_gs.fit(data[cols_x][0:10000], data[col_y][0:10000])\n",
        "forest_gs.best_params_"
      ],
      "execution_count": 0,
      "outputs": []
    },
    {
      "cell_type": "markdown",
      "metadata": {
        "id": "3cmCyLEJSak5",
        "colab_type": "text"
      },
      "source": [
        "### Обучение с подобранным параметром\n"
      ]
    },
    {
      "cell_type": "code",
      "metadata": {
        "id": "D11IFACJSZuk",
        "colab_type": "code",
        "colab": {}
      },
      "source": [
        "forest_gs.best_estimator_.fit(X_train, y_train)\n",
        "target_forest_gs = bag_gs.best_estimator_.predict(X_test)\n"
      ],
      "execution_count": 0,
      "outputs": []
    },
    {
      "cell_type": "markdown",
      "metadata": {
        "id": "7ozSxJgUS0P6",
        "colab_type": "text"
      },
      "source": [
        "### Проверка качества модели"
      ]
    },
    {
      "cell_type": "code",
      "metadata": {
        "id": "vr4h5s3oSdK0",
        "colab_type": "code",
        "colab": {}
      },
      "source": [
        "# Конвертация предсказанных признаков\n",
        "bin_target_forest_gs = convert_target_to_binary(target_forest_gs, 6)"
      ],
      "execution_count": 0,
      "outputs": []
    },
    {
      "cell_type": "code",
      "metadata": {
        "id": "a2EjqMD5S-SS",
        "colab_type": "code",
        "outputId": "5e6dce27-ac02-4e87-d473-94e8d379d9ec",
        "colab": {
          "base_uri": "https://localhost:8080/",
          "height": 68
        }
      },
      "source": [
        "ac_forest_gs = accuracy_score(y_test, target_forest_gs)\n",
        "bas_forest_gs = balanced_accuracy_score(bin_y_test, bin_target_forest_gs)\n",
        "rec_forest_gs = recall_score(bin_y_test, bin_target_forest_gs)\n",
        "print('''accuracy_score          с gs: {0}, без gs: {3}\n",
        "balanced_accuracy_score с gs: {1}, без gs: {4}\n",
        "recall_score            с gs: {2}, без gs: {5}'''.format(round(ac_forest_gs,3), \n",
        "round(bas_forest_gs, 3), round(rec_forest_gs, 3), round(ac_forest, 3), \n",
        "round(bas_forest, 3), round(rec_forest, 3)))"
      ],
      "execution_count": 0,
      "outputs": [
        {
          "output_type": "stream",
          "text": [
            "accuracy_score          с gs: 0.932, без gs: 0.793\n",
            "balanced_accuracy_score с gs: 0.477, без gs: 0.889\n",
            "recall_score            с gs: 0.0, без gs: 0.835\n"
          ],
          "name": "stdout"
        }
      ]
    },
    {
      "cell_type": "code",
      "metadata": {
        "id": "Df1n8RB87Fo6",
        "colab_type": "code",
        "colab": {}
      },
      "source": [
        "x = PrettyTable()\n",
        "x.field_names = [\"Model\", \"accuracy_score\", \"balanced_accuracy_score\", \"recall_score\"]"
      ],
      "execution_count": 0,
      "outputs": []
    },
    {
      "cell_type": "code",
      "metadata": {
        "id": "SWqlLWX77bmm",
        "colab_type": "code",
        "colab": {}
      },
      "source": [
        "x.add_row([\"K-соседей GS\", round(ac_knei_gs,3), round(bas_knei_gs, 3), \n",
        "           round(rec_knei_gs, 3)])\n",
        "x.add_row([\"к-соседей без GS\", round(ac_knei, 3), round(bas_knei, 3), \n",
        "           round(rec_knei, 3)])\n",
        "x.add_row([\"Градиентный спуск GS\", round(ac_grad_gs,3), round(bas_grad_gs, 3), \n",
        "           round(rec_grad_gs, 3)])\n",
        "x.add_row([\"Градиентный спуск без GS\", round(ac_grad, 3), round(bas_grad, 3), \n",
        "              round(rec_grad, 3)])\n",
        "x.add_row([\"Дерево принятия решений GS\", round(ac_dtc_gs,3), round(bas_dtc_gs, 3), \n",
        "           round(rec_dtc_gs, 3)])\n",
        "x.add_row([\"Дерево принятия решений без GS\", round(ac_dtc, 3), \n",
        "          round(bas_dtc, 3), round(rec_dtc, 3)])\n",
        "x.add_row([\"Модель бэггинга GS\", round(ac_bag_gs,3), round(bas_bag_gs, 3), \n",
        "           round(rec_bag_gs, 3)])\n",
        "x.add_row([\"Модель бэггинга без GS\", round(ac_bag, 3), round(bas_bag, 3), \n",
        "           round(rec_bag, 3)])\n",
        "x.add_row([\"Случайный лес GS\", round(ac_forest_gs,3), round(bas_forest_gs, 3), \n",
        "           round(rec_forest_gs, 3)])\n",
        "x.add_row([\"Случайный лес без GS\", round(ac_forest, 3), \n",
        "round(bas_forest, 3), round(rec_forest, 3)])"
      ],
      "execution_count": 0,
      "outputs": []
    },
    {
      "cell_type": "code",
      "metadata": {
        "id": "n0mvUb2f8beL",
        "colab_type": "code",
        "outputId": "12ada2ac-b095-4395-cd5d-92d9dff818a4",
        "colab": {
          "base_uri": "https://localhost:8080/",
          "height": 275
        }
      },
      "source": [
        "print(x)"
      ],
      "execution_count": 0,
      "outputs": [
        {
          "output_type": "stream",
          "text": [
            "+--------------------------------+----------------+-------------------------+--------------+\n",
            "|             Model              | accuracy_score | balanced_accuracy_score | recall_score |\n",
            "+--------------------------------+----------------+-------------------------+--------------+\n",
            "|          K-соседей GS          |     0.878      |          0.952          |    0.949     |\n",
            "|        к-соседей без GS        |     0.879      |          0.945          |    0.931     |\n",
            "|      Градиентный спуск GS      |     0.363      |           0.5           |     0.0      |\n",
            "|    Градиентный спуск без GS    |     0.045      |          0.499          |    0.028     |\n",
            "|   Дерево принятия решений GS   |     0.908      |           0.94          |    0.902     |\n",
            "| Дерево принятия решений без GS |     0.906      |          0.941          |    0.904     |\n",
            "|       Модель бэггинга GS       |     0.932      |          0.477          |     0.0      |\n",
            "|     Модель бэггинга без GS     |     0.926      |          0.965          |    0.954     |\n",
            "|        Случайный лес GS        |     0.932      |          0.477          |     0.0      |\n",
            "|      Случайный лес без GS      |     0.793      |          0.889          |    0.835     |\n",
            "+--------------------------------+----------------+-------------------------+--------------+\n"
          ],
          "name": "stdout"
        }
      ]
    }
  ]
}