{
  "nbformat": 4,
  "nbformat_minor": 0,
  "metadata": {
    "colab": {
      "name": "Lab4.ipynb",
      "version": "0.3.2",
      "provenance": [],
      "collapsed_sections": []
    },
    "kernelspec": {
      "name": "python3",
      "display_name": "Python 3"
    }
  },
  "cells": [
    {
      "metadata": {
        "id": "pUdL8GP1vUlz",
        "colab_type": "text"
      },
      "cell_type": "markdown",
      "source": [
        "В качестве набора данных я выбрала датасет, демонстрирующий качество вина по содержанию в нем разных веществ (https://www.kaggle.com/uciml/red-wine-quality-cortez-et-al-2009/version/2).\n",
        "\n",
        "Эта задача будет полезна в различных ресторанах, алкогольных магазинах, а также на различных винодельнях.\n",
        "\n",
        "Датасет состоит пока что из одного файла, но для обучения модели я разобью его на 3 части.\n",
        "\n",
        "В моем датасете хранятся следующие данные:\n",
        "\n",
        "1)fixed acidit - фиксированная кислотность\n",
        "\n",
        "2)volatile acidity - летучая кислотность\n",
        "\n",
        "3)citric acid - лимонная кислота\n",
        "\n",
        "4)residual sugar - остаточный сахар\n",
        "\n",
        "5)chlorides - хлориды\n",
        "\n",
        "6)free sulfur dioxide - свободный диоксид серы\n",
        "\n",
        "7)total sulfur dioxide - общий диоксид серы\n",
        "\n",
        "8)density - плотность\n",
        "\n",
        "9)pH - водородный показатель\n",
        "\n",
        "10)sulphates - сульфаты\n",
        "\n",
        "11)alcohol - алкоголь\n",
        "\n",
        "12)quality - качество - целевой признак - оценка вина от 0 до 10 баллов (на деле от 3 до 8)\n",
        "\n",
        "Более подробное описание этого датасета по ссылке.\n",
        "\n"
      ]
    },
    {
      "metadata": {
        "id": "cCG3LCeavHg0",
        "colab_type": "code",
        "colab": {}
      },
      "cell_type": "code",
      "source": [
        "#Импорт библиотек \n",
        "import numpy as np\n",
        "import pandas as pd\n",
        "import seaborn as sns\n",
        "from google.colab import drive\n",
        "import matplotlib.pyplot as plt\n",
        "%matplotlib inline \n",
        "sns.set(style=\"ticks\") \n",
        "from sklearn.model_selection import train_test_split\n",
        "from sklearn.neighbors import KNeighborsClassifier\n",
        "from sklearn.metrics import accuracy_score, balanced_accuracy_score, prec ision_score, recall_score\n",
        "from sklearn.model_selection import cross_val_score, cross_validate\n",
        "from sklearn.model_selection import KFold, RepeatedKFold, LeaveOneOut, LeavePOut, ShuffleSplit, StratifiedKFold\n",
        "from sklearn.model_selection import GridSearchCV, RandomizedSearchCV\n",
        "from sklearn.model_selection import learning_curve, validation_curve"
      ],
      "execution_count": 0,
      "outputs": []
    },
    {
      "metadata": {
        "id": "qNy3U8-p0ETZ",
        "colab_type": "code",
        "outputId": "b99051b3-39ae-4797-b4f4-8c934ac2303d",
        "colab": {
          "base_uri": "https://localhost:8080/",
          "height": 35
        }
      },
      "cell_type": "code",
      "source": [
        "#Монтирую гугл диск, чтобы взять оттуда датасет\n",
        "drive.mount(\"/content/gdrive\", force_remount=True)"
      ],
      "execution_count": 0,
      "outputs": [
        {
          "output_type": "stream",
          "text": [
            "Mounted at /content/gdrive\n"
          ],
          "name": "stdout"
        }
      ]
    },
    {
      "metadata": {
        "id": "GU_adiBq0HiE",
        "colab_type": "code",
        "colab": {}
      },
      "cell_type": "code",
      "source": [
        "#Загружаю данные с гугл диска\n",
        "data = pd.read_csv('/content/gdrive/My Drive/winequality-red.csv', sep=\",\")"
      ],
      "execution_count": 0,
      "outputs": []
    },
    {
      "metadata": {
        "id": "TtaB-oEt0SIv",
        "colab_type": "code",
        "outputId": "61eddaf0-16c3-4d59-afef-44541d7ca98c",
        "colab": {
          "base_uri": "https://localhost:8080/",
          "height": 373
        }
      },
      "cell_type": "code",
      "source": [
        "data.head(10)"
      ],
      "execution_count": 0,
      "outputs": [
        {
          "output_type": "execute_result",
          "data": {
            "text/html": [
              "<div>\n",
              "<style scoped>\n",
              "    .dataframe tbody tr th:only-of-type {\n",
              "        vertical-align: middle;\n",
              "    }\n",
              "\n",
              "    .dataframe tbody tr th {\n",
              "        vertical-align: top;\n",
              "    }\n",
              "\n",
              "    .dataframe thead th {\n",
              "        text-align: right;\n",
              "    }\n",
              "</style>\n",
              "<table border=\"1\" class=\"dataframe\">\n",
              "  <thead>\n",
              "    <tr style=\"text-align: right;\">\n",
              "      <th></th>\n",
              "      <th>fixed acidity</th>\n",
              "      <th>volatile acidity</th>\n",
              "      <th>citric acid</th>\n",
              "      <th>residual sugar</th>\n",
              "      <th>chlorides</th>\n",
              "      <th>free sulfur dioxide</th>\n",
              "      <th>total sulfur dioxide</th>\n",
              "      <th>density</th>\n",
              "      <th>pH</th>\n",
              "      <th>sulphates</th>\n",
              "      <th>alcohol</th>\n",
              "      <th>quality</th>\n",
              "    </tr>\n",
              "  </thead>\n",
              "  <tbody>\n",
              "    <tr>\n",
              "      <th>0</th>\n",
              "      <td>7.4</td>\n",
              "      <td>0.70</td>\n",
              "      <td>0.00</td>\n",
              "      <td>1.9</td>\n",
              "      <td>0.076</td>\n",
              "      <td>11.0</td>\n",
              "      <td>34.0</td>\n",
              "      <td>0.9978</td>\n",
              "      <td>3.51</td>\n",
              "      <td>0.56</td>\n",
              "      <td>9.4</td>\n",
              "      <td>5</td>\n",
              "    </tr>\n",
              "    <tr>\n",
              "      <th>1</th>\n",
              "      <td>7.8</td>\n",
              "      <td>0.88</td>\n",
              "      <td>0.00</td>\n",
              "      <td>2.6</td>\n",
              "      <td>0.098</td>\n",
              "      <td>25.0</td>\n",
              "      <td>67.0</td>\n",
              "      <td>0.9968</td>\n",
              "      <td>3.20</td>\n",
              "      <td>0.68</td>\n",
              "      <td>9.8</td>\n",
              "      <td>5</td>\n",
              "    </tr>\n",
              "    <tr>\n",
              "      <th>2</th>\n",
              "      <td>7.8</td>\n",
              "      <td>0.76</td>\n",
              "      <td>0.04</td>\n",
              "      <td>2.3</td>\n",
              "      <td>0.092</td>\n",
              "      <td>15.0</td>\n",
              "      <td>54.0</td>\n",
              "      <td>0.9970</td>\n",
              "      <td>3.26</td>\n",
              "      <td>0.65</td>\n",
              "      <td>9.8</td>\n",
              "      <td>5</td>\n",
              "    </tr>\n",
              "    <tr>\n",
              "      <th>3</th>\n",
              "      <td>11.2</td>\n",
              "      <td>0.28</td>\n",
              "      <td>0.56</td>\n",
              "      <td>1.9</td>\n",
              "      <td>0.075</td>\n",
              "      <td>17.0</td>\n",
              "      <td>60.0</td>\n",
              "      <td>0.9980</td>\n",
              "      <td>3.16</td>\n",
              "      <td>0.58</td>\n",
              "      <td>9.8</td>\n",
              "      <td>6</td>\n",
              "    </tr>\n",
              "    <tr>\n",
              "      <th>4</th>\n",
              "      <td>7.4</td>\n",
              "      <td>0.70</td>\n",
              "      <td>0.00</td>\n",
              "      <td>1.9</td>\n",
              "      <td>0.076</td>\n",
              "      <td>11.0</td>\n",
              "      <td>34.0</td>\n",
              "      <td>0.9978</td>\n",
              "      <td>3.51</td>\n",
              "      <td>0.56</td>\n",
              "      <td>9.4</td>\n",
              "      <td>5</td>\n",
              "    </tr>\n",
              "    <tr>\n",
              "      <th>5</th>\n",
              "      <td>7.4</td>\n",
              "      <td>0.66</td>\n",
              "      <td>0.00</td>\n",
              "      <td>1.8</td>\n",
              "      <td>0.075</td>\n",
              "      <td>13.0</td>\n",
              "      <td>40.0</td>\n",
              "      <td>0.9978</td>\n",
              "      <td>3.51</td>\n",
              "      <td>0.56</td>\n",
              "      <td>9.4</td>\n",
              "      <td>5</td>\n",
              "    </tr>\n",
              "    <tr>\n",
              "      <th>6</th>\n",
              "      <td>7.9</td>\n",
              "      <td>0.60</td>\n",
              "      <td>0.06</td>\n",
              "      <td>1.6</td>\n",
              "      <td>0.069</td>\n",
              "      <td>15.0</td>\n",
              "      <td>59.0</td>\n",
              "      <td>0.9964</td>\n",
              "      <td>3.30</td>\n",
              "      <td>0.46</td>\n",
              "      <td>9.4</td>\n",
              "      <td>5</td>\n",
              "    </tr>\n",
              "    <tr>\n",
              "      <th>7</th>\n",
              "      <td>7.3</td>\n",
              "      <td>0.65</td>\n",
              "      <td>0.00</td>\n",
              "      <td>1.2</td>\n",
              "      <td>0.065</td>\n",
              "      <td>15.0</td>\n",
              "      <td>21.0</td>\n",
              "      <td>0.9946</td>\n",
              "      <td>3.39</td>\n",
              "      <td>0.47</td>\n",
              "      <td>10.0</td>\n",
              "      <td>7</td>\n",
              "    </tr>\n",
              "    <tr>\n",
              "      <th>8</th>\n",
              "      <td>7.8</td>\n",
              "      <td>0.58</td>\n",
              "      <td>0.02</td>\n",
              "      <td>2.0</td>\n",
              "      <td>0.073</td>\n",
              "      <td>9.0</td>\n",
              "      <td>18.0</td>\n",
              "      <td>0.9968</td>\n",
              "      <td>3.36</td>\n",
              "      <td>0.57</td>\n",
              "      <td>9.5</td>\n",
              "      <td>7</td>\n",
              "    </tr>\n",
              "    <tr>\n",
              "      <th>9</th>\n",
              "      <td>7.5</td>\n",
              "      <td>0.50</td>\n",
              "      <td>0.36</td>\n",
              "      <td>6.1</td>\n",
              "      <td>0.071</td>\n",
              "      <td>17.0</td>\n",
              "      <td>102.0</td>\n",
              "      <td>0.9978</td>\n",
              "      <td>3.35</td>\n",
              "      <td>0.80</td>\n",
              "      <td>10.5</td>\n",
              "      <td>5</td>\n",
              "    </tr>\n",
              "  </tbody>\n",
              "</table>\n",
              "</div>"
            ],
            "text/plain": [
              "   fixed acidity  volatile acidity  citric acid  residual sugar  chlorides  \\\n",
              "0            7.4              0.70         0.00             1.9      0.076   \n",
              "1            7.8              0.88         0.00             2.6      0.098   \n",
              "2            7.8              0.76         0.04             2.3      0.092   \n",
              "3           11.2              0.28         0.56             1.9      0.075   \n",
              "4            7.4              0.70         0.00             1.9      0.076   \n",
              "5            7.4              0.66         0.00             1.8      0.075   \n",
              "6            7.9              0.60         0.06             1.6      0.069   \n",
              "7            7.3              0.65         0.00             1.2      0.065   \n",
              "8            7.8              0.58         0.02             2.0      0.073   \n",
              "9            7.5              0.50         0.36             6.1      0.071   \n",
              "\n",
              "   free sulfur dioxide  total sulfur dioxide  density    pH  sulphates  \\\n",
              "0                 11.0                  34.0   0.9978  3.51       0.56   \n",
              "1                 25.0                  67.0   0.9968  3.20       0.68   \n",
              "2                 15.0                  54.0   0.9970  3.26       0.65   \n",
              "3                 17.0                  60.0   0.9980  3.16       0.58   \n",
              "4                 11.0                  34.0   0.9978  3.51       0.56   \n",
              "5                 13.0                  40.0   0.9978  3.51       0.56   \n",
              "6                 15.0                  59.0   0.9964  3.30       0.46   \n",
              "7                 15.0                  21.0   0.9946  3.39       0.47   \n",
              "8                  9.0                  18.0   0.9968  3.36       0.57   \n",
              "9                 17.0                 102.0   0.9978  3.35       0.80   \n",
              "\n",
              "   alcohol  quality  \n",
              "0      9.4        5  \n",
              "1      9.8        5  \n",
              "2      9.8        5  \n",
              "3      9.8        6  \n",
              "4      9.4        5  \n",
              "5      9.4        5  \n",
              "6      9.4        5  \n",
              "7     10.0        7  \n",
              "8      9.5        7  \n",
              "9     10.5        5  "
            ]
          },
          "metadata": {
            "tags": []
          },
          "execution_count": 27
        }
      ]
    },
    {
      "metadata": {
        "id": "JwjeF6lV0WPX",
        "colab_type": "code",
        "outputId": "610a7cb4-6213-45df-e7f9-8172bba90701",
        "colab": {
          "base_uri": "https://localhost:8080/",
          "height": 243
        }
      },
      "cell_type": "code",
      "source": [
        "total_count = data.shape[0]\n",
        "print('Всего строк: {}'.format(total_count))\n",
        "#data.columns\n",
        "#data.dtypes\n",
        "for col in data.columns:\n",
        "    # Количество пустых значений - все значения заполнены\n",
        "    temp_null_count = data[data[col].isnull()].shape[0]\n",
        "    print('{} - {}'.format(col, temp_null_count))"
      ],
      "execution_count": 0,
      "outputs": [
        {
          "output_type": "stream",
          "text": [
            "Всего строк: 1599\n",
            "fixed acidity - 0\n",
            "volatile acidity - 0\n",
            "citric acid - 0\n",
            "residual sugar - 0\n",
            "chlorides - 0\n",
            "free sulfur dioxide - 0\n",
            "total sulfur dioxide - 0\n",
            "density - 0\n",
            "pH - 0\n",
            "sulphates - 0\n",
            "alcohol - 0\n",
            "quality - 0\n"
          ],
          "name": "stdout"
        }
      ]
    },
    {
      "metadata": {
        "id": "t3bDMhPo0sN1",
        "colab_type": "code",
        "outputId": "44876bb4-1dbb-4fdb-f22a-6a976d5dc631",
        "colab": {
          "base_uri": "https://localhost:8080/",
          "height": 243
        }
      },
      "cell_type": "code",
      "source": [
        "#Типы данных значений датасета\n",
        "data.dtypes"
      ],
      "execution_count": 0,
      "outputs": [
        {
          "output_type": "execute_result",
          "data": {
            "text/plain": [
              "fixed acidity           float64\n",
              "volatile acidity        float64\n",
              "citric acid             float64\n",
              "residual sugar          float64\n",
              "chlorides               float64\n",
              "free sulfur dioxide     float64\n",
              "total sulfur dioxide    float64\n",
              "density                 float64\n",
              "pH                      float64\n",
              "sulphates               float64\n",
              "alcohol                 float64\n",
              "quality                   int64\n",
              "dtype: object"
            ]
          },
          "metadata": {
            "tags": []
          },
          "execution_count": 29
        }
      ]
    },
    {
      "metadata": {
        "id": "xSEI8as-0xBi",
        "colab_type": "text"
      },
      "cell_type": "markdown",
      "source": [
        "Так как нет нулевых значений,  и нет никаких категориальных признаков - ничего заменять не надо. Но признаков очень много, некоторые можно убрать."
      ]
    },
    {
      "metadata": {
        "id": "opvXJJUO0-sD",
        "colab_type": "code",
        "outputId": "c0399ce6-fe64-4686-e24e-ebcab37e2531",
        "colab": {
          "base_uri": "https://localhost:8080/",
          "height": 447
        }
      },
      "cell_type": "code",
      "source": [
        "sns.heatmap(data.corr(method='pearson'), annot=True, fmt='.2f')"
      ],
      "execution_count": 0,
      "outputs": [
        {
          "output_type": "execute_result",
          "data": {
            "text/plain": [
              "<matplotlib.axes._subplots.AxesSubplot at 0x7ff05ecf6438>"
            ]
          },
          "metadata": {
            "tags": []
          },
          "execution_count": 30
        },
        {
          "output_type": "display_data",
          "data": {
            "image/png": "[encoded data removed]",
            "text/plain": [
              "<Figure size 576x396 with 2 Axes>"
            ]
          },
          "metadata": {
            "tags": []
          }
        }
      ]
    },
    {
      "metadata": {
        "id": "CzAo0dx81oF6",
        "colab_type": "text"
      },
      "cell_type": "markdown",
      "source": [
        "Исходя из этого можно сказать, что некоторые признаки будут только мешать и их стоит убрать. "
      ]
    },
    {
      "metadata": {
        "id": "WFQl0rId4kj5",
        "colab_type": "code",
        "outputId": "739ce08f-e642-41b4-d0d3-04e182e49a9b",
        "colab": {
          "base_uri": "https://localhost:8080/",
          "height": 35
        }
      },
      "cell_type": "code",
      "source": [
        "cols_x = ['fixed acidity', 'citric acid', 'sulphates', 'alcohol']   \n",
        "# целевой признак\n",
        "col_y = 'quality'\n",
        "#разделение данных\n",
        "X_train, X_test, y_train, y_test = train_test_split(data[cols_x], data[col_y], test_size = 0.5, random_state = 11)\n",
        "N_train, _ = X_train.shape \n",
        "N_test,  _ = X_test.shape \n",
        "print (N_train, N_test)"
      ],
      "execution_count": 0,
      "outputs": [
        {
          "output_type": "stream",
          "text": [
            "799 800\n"
          ],
          "name": "stdout"
        }
      ]
    },
    {
      "metadata": {
        "id": "CUiWFRg5N2T5",
        "colab_type": "text"
      },
      "cell_type": "markdown",
      "source": [
        "#Классификатор\n",
        "Я решила использовать классификатор, так как у меня получается только есть только 6 оценок. Есть предположение, что регрессор будет прездсказывать значения, невходящие в эти 6 оценок. "
      ]
    },
    {
      "metadata": {
        "id": "YCC0sYjdOPVd",
        "colab_type": "code",
        "outputId": "016ab076-8735-4be2-b3ac-18184db79397",
        "colab": {
          "base_uri": "https://localhost:8080/",
          "height": 69
        }
      },
      "cell_type": "code",
      "source": [
        "KNeighborsClassifierObj = KNeighborsClassifier(n_neighbors=3)\n",
        "KNeighborsClassifierObj"
      ],
      "execution_count": 0,
      "outputs": [
        {
          "output_type": "execute_result",
          "data": {
            "text/plain": [
              "KNeighborsClassifier(algorithm='auto', leaf_size=30, metric='minkowski',\n",
              "           metric_params=None, n_jobs=None, n_neighbors=3, p=2,\n",
              "           weights='uniform')"
            ]
          },
          "metadata": {
            "tags": []
          },
          "execution_count": 32
        }
      ]
    },
    {
      "metadata": {
        "id": "9yIZRkY8Opzi",
        "colab_type": "code",
        "outputId": "c575c64e-72ca-4e7f-dc88-6c144c21373f",
        "colab": {
          "base_uri": "https://localhost:8080/",
          "height": 35
        }
      },
      "cell_type": "code",
      "source": [
        "KNeighborsClassifierObj.fit(X_train, y_train)\n",
        "KNeighborsClassifierObj.predict(X_test)[0:20]"
      ],
      "execution_count": 0,
      "outputs": [
        {
          "output_type": "execute_result",
          "data": {
            "text/plain": [
              "array([6, 6, 4, 6, 6, 5, 6, 5, 6, 5, 5, 6, 5, 5, 5, 6, 5, 7, 7, 6])"
            ]
          },
          "metadata": {
            "tags": []
          },
          "execution_count": 33
        }
      ]
    },
    {
      "metadata": {
        "id": "NyxM5kdDPugH",
        "colab_type": "code",
        "outputId": "0dee9cbc-1ed0-4a01-f33a-6fbe7d614d82",
        "colab": {
          "base_uri": "https://localhost:8080/",
          "height": 381
        }
      },
      "cell_type": "code",
      "source": [
        "y_test.head(20)"
      ],
      "execution_count": 0,
      "outputs": [
        {
          "output_type": "execute_result",
          "data": {
            "text/plain": [
              "1429    5\n",
              "260     5\n",
              "916     5\n",
              "1141    6\n",
              "1574    6\n",
              "82      5\n",
              "1038    7\n",
              "641     5\n",
              "56      5\n",
              "1073    6\n",
              "433     5\n",
              "1575    6\n",
              "136     5\n",
              "899     3\n",
              "1025    6\n",
              "604     6\n",
              "775     5\n",
              "1150    7\n",
              "1239    4\n",
              "293     6\n",
              "Name: quality, dtype: int64"
            ]
          },
          "metadata": {
            "tags": []
          },
          "execution_count": 34
        }
      ]
    },
    {
      "metadata": {
        "id": "KfCcPX_fRGTv",
        "colab_type": "text"
      },
      "cell_type": "markdown",
      "source": [
        "**Попробую сделать то же, но с 5 соседями**\n",
        "\n",
        "\n"
      ]
    },
    {
      "metadata": {
        "id": "kaNOIa9UQglY",
        "colab_type": "code",
        "outputId": "f667e1b4-d089-4447-de78-dea2e29db8e4",
        "colab": {
          "base_uri": "https://localhost:8080/",
          "height": 69
        }
      },
      "cell_type": "code",
      "source": [
        "KNeighborsClassifierObj5 = KNeighborsClassifier(n_neighbors=5)\n",
        "KNeighborsClassifierObj5"
      ],
      "execution_count": 0,
      "outputs": [
        {
          "output_type": "execute_result",
          "data": {
            "text/plain": [
              "KNeighborsClassifier(algorithm='auto', leaf_size=30, metric='minkowski',\n",
              "           metric_params=None, n_jobs=None, n_neighbors=5, p=2,\n",
              "           weights='uniform')"
            ]
          },
          "metadata": {
            "tags": []
          },
          "execution_count": 35
        }
      ]
    },
    {
      "metadata": {
        "id": "Pm1ka7qOROiT",
        "colab_type": "code",
        "outputId": "3b18f0db-23ba-4171-8995-019a88802d9f",
        "colab": {
          "base_uri": "https://localhost:8080/",
          "height": 35
        }
      },
      "cell_type": "code",
      "source": [
        "KNeighborsClassifierObj5.fit(X_train, y_train)\n",
        "KNeighborsClassifierObj5.predict(X_test)[0:20]"
      ],
      "execution_count": 0,
      "outputs": [
        {
          "output_type": "execute_result",
          "data": {
            "text/plain": [
              "array([6, 5, 5, 6, 5, 5, 6, 5, 6, 6, 5, 6, 5, 6, 6, 6, 5, 7, 6, 5])"
            ]
          },
          "metadata": {
            "tags": []
          },
          "execution_count": 36
        }
      ]
    },
    {
      "metadata": {
        "id": "vJ2fW0opizd6",
        "colab_type": "text"
      },
      "cell_type": "markdown",
      "source": [
        "#Проверка точности разными метриками"
      ]
    },
    {
      "metadata": {
        "id": "Xd68oaJYRfH5",
        "colab_type": "code",
        "outputId": "45461b42-225d-4f61-b432-2d2f8873367b",
        "colab": {
          "base_uri": "https://localhost:8080/",
          "height": 35
        }
      },
      "cell_type": "code",
      "source": [
        "#5 ближайших соседей\n",
        "accuracy_score(y_test, KNeighborsClassifierObj5.predict(X_test))"
      ],
      "execution_count": 0,
      "outputs": [
        {
          "output_type": "execute_result",
          "data": {
            "text/plain": [
              "0.54375"
            ]
          },
          "metadata": {
            "tags": []
          },
          "execution_count": 37
        }
      ]
    },
    {
      "metadata": {
        "id": "dmt5TTskkJha",
        "colab_type": "code",
        "outputId": "cc8ae68d-822b-4370-d425-22f14cac40cd",
        "colab": {
          "base_uri": "https://localhost:8080/",
          "height": 35
        }
      },
      "cell_type": "code",
      "source": [
        "#3 ближайших соседа \n",
        "accuracy_score(y_test, KNeighborsClassifierObj.predict(X_test))"
      ],
      "execution_count": 0,
      "outputs": [
        {
          "output_type": "execute_result",
          "data": {
            "text/plain": [
              "0.5175"
            ]
          },
          "metadata": {
            "tags": []
          },
          "execution_count": 38
        }
      ]
    },
    {
      "metadata": {
        "id": "thlpIRWDkz5z",
        "colab_type": "code",
        "colab": {}
      },
      "cell_type": "code",
      "source": [
        "# Конвертация целевого признака в бинарный\n",
        "def convert_target_to_binary(array:np.ndarray, target:int) -> np.ndarray:\n",
        "    # Если целевой признак совпадает с указанным, то 1 иначе 0\n",
        "    res = [1 if x==target else 0 for x in array]\n",
        "    return res"
      ],
      "execution_count": 0,
      "outputs": []
    },
    {
      "metadata": {
        "id": "G7jFs9FpfQ42",
        "colab_type": "code",
        "outputId": "bb889394-3b2b-4351-8990-8309f104fdb6",
        "colab": {
          "base_uri": "https://localhost:8080/",
          "height": 277
        }
      },
      "cell_type": "code",
      "source": [
        "# Если целевой признак ==7, \n",
        "# то будем считать этот случай 1 в бинарном признаке\n",
        "bin_y_test = convert_target_to_binary(y_test, 7)\n",
        "list(zip(y_test, bin_y_test))[0:15]"
      ],
      "execution_count": 0,
      "outputs": [
        {
          "output_type": "execute_result",
          "data": {
            "text/plain": [
              "[(5, 0),\n",
              " (5, 0),\n",
              " (5, 0),\n",
              " (6, 0),\n",
              " (6, 0),\n",
              " (5, 0),\n",
              " (7, 1),\n",
              " (5, 0),\n",
              " (5, 0),\n",
              " (6, 0),\n",
              " (5, 0),\n",
              " (6, 0),\n",
              " (5, 0),\n",
              " (3, 0),\n",
              " (6, 0)]"
            ]
          },
          "metadata": {
            "tags": []
          },
          "execution_count": 40
        }
      ]
    },
    {
      "metadata": {
        "id": "JQmeybSRge9Z",
        "colab_type": "code",
        "colab": {}
      },
      "cell_type": "code",
      "source": [
        "# Конвертация предсказанных признаков\n",
        "bin_target3 = convert_target_to_binary(KNeighborsClassifierObj.predict(X_test), 7)\n",
        "bin_target5 = convert_target_to_binary(KNeighborsClassifierObj5.predict(X_test), 7)"
      ],
      "execution_count": 0,
      "outputs": []
    },
    {
      "metadata": {
        "id": "XWkpYgVRgyXA",
        "colab_type": "code",
        "outputId": "d5c6d546-3224-4246-ec38-5e9b130dd0b6",
        "colab": {
          "base_uri": "https://localhost:8080/",
          "height": 35
        }
      },
      "cell_type": "code",
      "source": [
        "#3 ближайших соседа\n",
        "balanced_accuracy_score(bin_y_test, bin_target3)"
      ],
      "execution_count": 0,
      "outputs": [
        {
          "output_type": "execute_result",
          "data": {
            "text/plain": [
              "0.5957142857142856"
            ]
          },
          "metadata": {
            "tags": []
          },
          "execution_count": 42
        }
      ]
    },
    {
      "metadata": {
        "id": "3WBIQ010hA2S",
        "colab_type": "code",
        "outputId": "117b5f46-0df6-4721-c5ef-3e2f916e9f96",
        "colab": {
          "base_uri": "https://localhost:8080/",
          "height": 35
        }
      },
      "cell_type": "code",
      "source": [
        "#5 ближайших соседей\n",
        "balanced_accuracy_score(bin_y_test, bin_target5)"
      ],
      "execution_count": 0,
      "outputs": [
        {
          "output_type": "execute_result",
          "data": {
            "text/plain": [
              "0.6278571428571429"
            ]
          },
          "metadata": {
            "tags": []
          },
          "execution_count": 43
        }
      ]
    },
    {
      "metadata": {
        "id": "X-1ESIoShQH8",
        "colab_type": "code",
        "outputId": "b97bef78-8f89-480f-a3b7-e5bb20ccedb6",
        "colab": {
          "base_uri": "https://localhost:8080/",
          "height": 35
        }
      },
      "cell_type": "code",
      "source": [
        "#3 соседа\n",
        "precision_score(bin_y_test, bin_target3), recall_score(bin_y_test, bin_target3)"
      ],
      "execution_count": 0,
      "outputs": [
        {
          "output_type": "execute_result",
          "data": {
            "text/plain": [
              "(0.32926829268292684, 0.27)"
            ]
          },
          "metadata": {
            "tags": []
          },
          "execution_count": 45
        }
      ]
    },
    {
      "metadata": {
        "id": "4DrMx6g_iO7M",
        "colab_type": "code",
        "outputId": "eb37ff71-c197-46d1-e8f5-acaec43fe2af",
        "colab": {
          "base_uri": "https://localhost:8080/",
          "height": 35
        }
      },
      "cell_type": "code",
      "source": [
        "#5 соседей\n",
        "precision_score(bin_y_test, bin_target5), recall_score(bin_y_test, bin_target5)"
      ],
      "execution_count": 0,
      "outputs": [
        {
          "output_type": "execute_result",
          "data": {
            "text/plain": [
              "(0.4155844155844156, 0.32)"
            ]
          },
          "metadata": {
            "tags": []
          },
          "execution_count": 46
        }
      ]
    },
    {
      "metadata": {
        "id": "_hp_4lOBKktP",
        "colab_type": "text"
      },
      "cell_type": "markdown",
      "source": [
        "#Кросс-валидация"
      ]
    },
    {
      "metadata": {
        "id": "jleT_R8PiYIW",
        "colab_type": "code",
        "colab": {}
      },
      "cell_type": "code",
      "source": [
        "scores = cross_val_score(KNeighborsClassifier(n_neighbors=5), \n",
        "                         data[cols_x], data[col_y], cv=3)"
      ],
      "execution_count": 0,
      "outputs": []
    },
    {
      "metadata": {
        "id": "weWzF-1LMJ-s",
        "colab_type": "code",
        "outputId": "b4cc551a-e925-4a5a-ff1d-70327ed00ff0",
        "colab": {
          "base_uri": "https://localhost:8080/",
          "height": 35
        }
      },
      "cell_type": "code",
      "source": [
        "scores"
      ],
      "execution_count": 0,
      "outputs": [
        {
          "output_type": "execute_result",
          "data": {
            "text/plain": [
              "array([0.4953271 , 0.51407129, 0.5047081 ])"
            ]
          },
          "metadata": {
            "tags": []
          },
          "execution_count": 48
        }
      ]
    },
    {
      "metadata": {
        "id": "Prz22lfiMYtv",
        "colab_type": "code",
        "outputId": "d3be02f4-8cea-4ee8-fc79-497ca13c4cfc",
        "colab": {
          "base_uri": "https://localhost:8080/",
          "height": 35
        }
      },
      "cell_type": "code",
      "source": [
        "np.mean(scores)\n"
      ],
      "execution_count": 0,
      "outputs": [
        {
          "output_type": "execute_result",
          "data": {
            "text/plain": [
              "0.5047021650970915"
            ]
          },
          "metadata": {
            "tags": []
          },
          "execution_count": 49
        }
      ]
    },
    {
      "metadata": {
        "id": "otoeRphtMaAP",
        "colab_type": "code",
        "colab": {}
      },
      "cell_type": "code",
      "source": [
        "scoring = {'precision': 'precision_weighted', \n",
        "           'recall': 'recall_weighted',\n",
        "           'f1': 'f1_weighted'}"
      ],
      "execution_count": 0,
      "outputs": []
    },
    {
      "metadata": {
        "id": "x91y7X3HMl0b",
        "colab_type": "code",
        "outputId": "d743cb79-1ea2-4f7e-b724-d990177f0ed8",
        "colab": {
          "base_uri": "https://localhost:8080/",
          "height": 453
        }
      },
      "cell_type": "code",
      "source": [
        "scores = cross_validate(KNeighborsClassifier(n_neighbors=8), \n",
        "                        data[cols_x], data[col_y], scoring=scoring, \n",
        "                        cv=3, return_train_score=True)"
      ],
      "execution_count": 0,
      "outputs": [
        {
          "output_type": "stream",
          "text": [
            "/usr/local/lib/python3.6/dist-packages/sklearn/metrics/classification.py:1143: UndefinedMetricWarning: Precision is ill-defined and being set to 0.0 in labels with no predicted samples.\n",
            "  'precision', 'predicted', average, warn_for)\n",
            "/usr/local/lib/python3.6/dist-packages/sklearn/metrics/classification.py:1143: UndefinedMetricWarning: F-score is ill-defined and being set to 0.0 in labels with no predicted samples.\n",
            "  'precision', 'predicted', average, warn_for)\n",
            "/usr/local/lib/python3.6/dist-packages/sklearn/metrics/classification.py:1143: UndefinedMetricWarning: Precision is ill-defined and being set to 0.0 in labels with no predicted samples.\n",
            "  'precision', 'predicted', average, warn_for)\n",
            "/usr/local/lib/python3.6/dist-packages/sklearn/metrics/classification.py:1143: UndefinedMetricWarning: F-score is ill-defined and being set to 0.0 in labels with no predicted samples.\n",
            "  'precision', 'predicted', average, warn_for)\n",
            "/usr/local/lib/python3.6/dist-packages/sklearn/metrics/classification.py:1143: UndefinedMetricWarning: Precision is ill-defined and being set to 0.0 in labels with no predicted samples.\n",
            "  'precision', 'predicted', average, warn_for)\n",
            "/usr/local/lib/python3.6/dist-packages/sklearn/metrics/classification.py:1143: UndefinedMetricWarning: F-score is ill-defined and being set to 0.0 in labels with no predicted samples.\n",
            "  'precision', 'predicted', average, warn_for)\n",
            "/usr/local/lib/python3.6/dist-packages/sklearn/metrics/classification.py:1143: UndefinedMetricWarning: Precision is ill-defined and being set to 0.0 in labels with no predicted samples.\n",
            "  'precision', 'predicted', average, warn_for)\n",
            "/usr/local/lib/python3.6/dist-packages/sklearn/metrics/classification.py:1143: UndefinedMetricWarning: F-score is ill-defined and being set to 0.0 in labels with no predicted samples.\n",
            "  'precision', 'predicted', average, warn_for)\n",
            "/usr/local/lib/python3.6/dist-packages/sklearn/metrics/classification.py:1143: UndefinedMetricWarning: Precision is ill-defined and being set to 0.0 in labels with no predicted samples.\n",
            "  'precision', 'predicted', average, warn_for)\n",
            "/usr/local/lib/python3.6/dist-packages/sklearn/metrics/classification.py:1143: UndefinedMetricWarning: F-score is ill-defined and being set to 0.0 in labels with no predicted samples.\n",
            "  'precision', 'predicted', average, warn_for)\n",
            "/usr/local/lib/python3.6/dist-packages/sklearn/metrics/classification.py:1143: UndefinedMetricWarning: Precision is ill-defined and being set to 0.0 in labels with no predicted samples.\n",
            "  'precision', 'predicted', average, warn_for)\n",
            "/usr/local/lib/python3.6/dist-packages/sklearn/metrics/classification.py:1143: UndefinedMetricWarning: F-score is ill-defined and being set to 0.0 in labels with no predicted samples.\n",
            "  'precision', 'predicted', average, warn_for)\n"
          ],
          "name": "stderr"
        }
      ]
    },
    {
      "metadata": {
        "id": "3i2VMAewNBUU",
        "colab_type": "code",
        "outputId": "d97090f2-eba3-4af9-9271-0f24c3e610ab",
        "colab": {
          "base_uri": "https://localhost:8080/",
          "height": 156
        }
      },
      "cell_type": "code",
      "source": [
        "scores"
      ],
      "execution_count": 0,
      "outputs": [
        {
          "output_type": "execute_result",
          "data": {
            "text/plain": [
              "{'fit_time': array([0.0026083 , 0.00242686, 0.00215244]),\n",
              " 'score_time': array([0.01546717, 0.01255178, 0.01525617]),\n",
              " 'test_f1': array([0.47744419, 0.51588412, 0.52858502]),\n",
              " 'test_precision': array([0.49122376, 0.50427431, 0.52647768]),\n",
              " 'test_recall': array([0.51775701, 0.53283302, 0.5480226 ]),\n",
              " 'train_f1': array([0.63805783, 0.64823261, 0.64068281]),\n",
              " 'train_precision': array([0.63372329, 0.65771406, 0.62684221]),\n",
              " 'train_recall': array([0.66259398, 0.67073171, 0.66385768])}"
            ]
          },
          "metadata": {
            "tags": []
          },
          "execution_count": 52
        }
      ]
    },
    {
      "metadata": {
        "id": "v_3FDRWMNFVg",
        "colab_type": "code",
        "outputId": "39aa4d1d-1085-49f5-dfc7-b2bc3ebdac94",
        "colab": {
          "base_uri": "https://localhost:8080/",
          "height": 35
        }
      },
      "cell_type": "code",
      "source": [
        "#Kfold\n",
        "scores = cross_val_score(KNeighborsClassifier(n_neighbors=5), \n",
        "                         data[cols_x], data[col_y], \n",
        "                         cv=KFold(n_splits=5))\n",
        "scores"
      ],
      "execution_count": 0,
      "outputs": [
        {
          "output_type": "execute_result",
          "data": {
            "text/plain": [
              "array([0.5       , 0.528125  , 0.553125  , 0.521875  , 0.52978056])"
            ]
          },
          "metadata": {
            "tags": []
          },
          "execution_count": 53
        }
      ]
    },
    {
      "metadata": {
        "id": "6u94mpYJSuDT",
        "colab_type": "code",
        "outputId": "60ff9270-0a32-4a36-df21-6ce9a675846c",
        "colab": {
          "base_uri": "https://localhost:8080/",
          "height": 35
        }
      },
      "cell_type": "code",
      "source": [
        "#ShuffleSplit\n",
        "scores = cross_val_score(KNeighborsClassifier(n_neighbors=5), \n",
        "                         data[cols_x], data[col_y], \n",
        "                         cv=ShuffleSplit(n_splits=5, test_size=0.25))\n",
        "scores\n"
      ],
      "execution_count": 0,
      "outputs": [
        {
          "output_type": "execute_result",
          "data": {
            "text/plain": [
              "array([0.5475, 0.595 , 0.5825, 0.5925, 0.57  ])"
            ]
          },
          "metadata": {
            "tags": []
          },
          "execution_count": 54
        }
      ]
    },
    {
      "metadata": {
        "id": "vKyWEfDVXqCG",
        "colab_type": "text"
      },
      "cell_type": "markdown",
      "source": [
        "#Grid Search (решетчатый поиск)"
      ]
    },
    {
      "metadata": {
        "id": "-4UwlMxUWID5",
        "colab_type": "code",
        "outputId": "351f9966-de83-475b-e2a4-751b5455c2dd",
        "colab": {
          "base_uri": "https://localhost:8080/",
          "height": 35
        }
      },
      "cell_type": "code",
      "source": [
        "n_range = np.array(range(2,22,2))\n",
        "tuned_parameters = [{'n_neighbors': n_range}]\n",
        "tuned_parameters"
      ],
      "execution_count": 0,
      "outputs": [
        {
          "output_type": "execute_result",
          "data": {
            "text/plain": [
              "[{'n_neighbors': array([ 2,  4,  6,  8, 10, 12, 14, 16, 18, 20])}]"
            ]
          },
          "metadata": {
            "tags": []
          },
          "execution_count": 55
        }
      ]
    },
    {
      "metadata": {
        "id": "kh6aouJbXzJv",
        "colab_type": "code",
        "outputId": "4981ec36-50e9-40ad-a266-95f7a09326dc",
        "colab": {
          "base_uri": "https://localhost:8080/",
          "height": 156
        }
      },
      "cell_type": "code",
      "source": [
        "clf_gs = GridSearchCV(KNeighborsClassifier(), tuned_parameters, cv=5, scoring='accuracy')\n",
        "clf_gs.fit(data[cols_x], data[col_y])"
      ],
      "execution_count": 0,
      "outputs": [
        {
          "output_type": "execute_result",
          "data": {
            "text/plain": [
              "GridSearchCV(cv=5, error_score='raise-deprecating',\n",
              "       estimator=KNeighborsClassifier(algorithm='auto', leaf_size=30, metric='minkowski',\n",
              "           metric_params=None, n_jobs=None, n_neighbors=5, p=2,\n",
              "           weights='uniform'),\n",
              "       fit_params=None, iid='warn', n_jobs=None,\n",
              "       param_grid=[{'n_neighbors': array([ 2,  4,  6,  8, 10, 12, 14, 16, 18, 20])}],\n",
              "       pre_dispatch='2*n_jobs', refit=True, return_train_score='warn',\n",
              "       scoring='accuracy', verbose=0)"
            ]
          },
          "metadata": {
            "tags": []
          },
          "execution_count": 56
        }
      ]
    },
    {
      "metadata": {
        "id": "34UV36W-YGL1",
        "colab_type": "code",
        "outputId": "56104061-3ee2-4642-ef98-a14ae0b0b2f0",
        "colab": {
          "base_uri": "https://localhost:8080/",
          "height": 1216
        }
      },
      "cell_type": "code",
      "source": [
        "clf_gs.cv_results_\n"
      ],
      "execution_count": 0,
      "outputs": [
        {
          "output_type": "stream",
          "text": [
            "/usr/local/lib/python3.6/dist-packages/sklearn/utils/deprecation.py:125: FutureWarning: You are accessing a training score ('mean_train_score'), which will not be available by default any more in 0.21. If you need training scores, please set return_train_score=True\n",
            "  warnings.warn(*warn_args, **warn_kwargs)\n",
            "/usr/local/lib/python3.6/dist-packages/sklearn/utils/deprecation.py:125: FutureWarning: You are accessing a training score ('split0_train_score'), which will not be available by default any more in 0.21. If you need training scores, please set return_train_score=True\n",
            "  warnings.warn(*warn_args, **warn_kwargs)\n",
            "/usr/local/lib/python3.6/dist-packages/sklearn/utils/deprecation.py:125: FutureWarning: You are accessing a training score ('split1_train_score'), which will not be available by default any more in 0.21. If you need training scores, please set return_train_score=True\n",
            "  warnings.warn(*warn_args, **warn_kwargs)\n",
            "/usr/local/lib/python3.6/dist-packages/sklearn/utils/deprecation.py:125: FutureWarning: You are accessing a training score ('split2_train_score'), which will not be available by default any more in 0.21. If you need training scores, please set return_train_score=True\n",
            "  warnings.warn(*warn_args, **warn_kwargs)\n",
            "/usr/local/lib/python3.6/dist-packages/sklearn/utils/deprecation.py:125: FutureWarning: You are accessing a training score ('split3_train_score'), which will not be available by default any more in 0.21. If you need training scores, please set return_train_score=True\n",
            "  warnings.warn(*warn_args, **warn_kwargs)\n",
            "/usr/local/lib/python3.6/dist-packages/sklearn/utils/deprecation.py:125: FutureWarning: You are accessing a training score ('split4_train_score'), which will not be available by default any more in 0.21. If you need training scores, please set return_train_score=True\n",
            "  warnings.warn(*warn_args, **warn_kwargs)\n",
            "/usr/local/lib/python3.6/dist-packages/sklearn/utils/deprecation.py:125: FutureWarning: You are accessing a training score ('std_train_score'), which will not be available by default any more in 0.21. If you need training scores, please set return_train_score=True\n",
            "  warnings.warn(*warn_args, **warn_kwargs)\n"
          ],
          "name": "stderr"
        },
        {
          "output_type": "execute_result",
          "data": {
            "text/plain": [
              "{'mean_fit_time': array([0.00320864, 0.0018784 , 0.00196204, 0.00184245, 0.00204043,\n",
              "        0.00188065, 0.00202212, 0.00205121, 0.00203662, 0.00200739]),\n",
              " 'mean_score_time': array([0.00361848, 0.00244255, 0.00246744, 0.00240417, 0.00274987,\n",
              "        0.0027307 , 0.00291009, 0.00328074, 0.00344324, 0.00323553]),\n",
              " 'mean_test_score': array([0.48968105, 0.51782364, 0.50906817, 0.53283302, 0.54534084,\n",
              "        0.53158224, 0.53033146, 0.52595372, 0.51969981, 0.52470294]),\n",
              " 'mean_train_score': array([0.83254899, 0.72529956, 0.69418839, 0.67104697, 0.649309  ,\n",
              "        0.63633265, 0.62429062, 0.6147541 , 0.61398714, 0.60912688]),\n",
              " 'param_n_neighbors': masked_array(data=[2, 4, 6, 8, 10, 12, 14, 16, 18, 20],\n",
              "              mask=[False, False, False, False, False, False, False, False,\n",
              "                    False, False],\n",
              "        fill_value='?',\n",
              "             dtype=object),\n",
              " 'params': [{'n_neighbors': 2},\n",
              "  {'n_neighbors': 4},\n",
              "  {'n_neighbors': 6},\n",
              "  {'n_neighbors': 8},\n",
              "  {'n_neighbors': 10},\n",
              "  {'n_neighbors': 12},\n",
              "  {'n_neighbors': 14},\n",
              "  {'n_neighbors': 16},\n",
              "  {'n_neighbors': 18},\n",
              "  {'n_neighbors': 20}],\n",
              " 'rank_test_score': array([10,  8,  9,  2,  1,  3,  4,  5,  7,  6], dtype=int32),\n",
              " 'split0_test_score': array([0.48757764, 0.5       , 0.50310559, 0.53416149, 0.54658385,\n",
              "        0.52484472, 0.51242236, 0.49378882, 0.46583851, 0.46583851]),\n",
              " 'split0_train_score': array([0.83085356, 0.72905247, 0.69616288, 0.67110415, 0.6577917 ,\n",
              "        0.64369616, 0.63821457, 0.62098669, 0.63194988, 0.60532498]),\n",
              " 'split1_test_score': array([0.47663551, 0.48909657, 0.47352025, 0.51713396, 0.50778816,\n",
              "        0.50155763, 0.48909657, 0.48598131, 0.48286604, 0.4953271 ]),\n",
              " 'split1_train_score': array([0.83333333, 0.72769953, 0.7057903 , 0.6799687 , 0.64319249,\n",
              "        0.64319249, 0.61893584, 0.60954617, 0.62441315, 0.62206573]),\n",
              " 'split2_test_score': array([0.52959502, 0.5482866 , 0.52336449, 0.5576324 , 0.59190031,\n",
              "        0.58566978, 0.58566978, 0.60124611, 0.60436137, 0.61370717]),\n",
              " 'split2_train_score': array([0.83020344, 0.72222222, 0.68935837, 0.66588419, 0.63771518,\n",
              "        0.61580595, 0.60250391, 0.60406886, 0.59937402, 0.59389671]),\n",
              " 'split3_test_score': array([0.47169811, 0.52830189, 0.55345912, 0.5408805 , 0.55974843,\n",
              "        0.5408805 , 0.55345912, 0.5408805 , 0.55345912, 0.54716981]),\n",
              " 'split3_train_score': array([0.83060109, 0.72521468, 0.68618267, 0.67213115, 0.65807963,\n",
              "        0.63778298, 0.62607338, 0.61436378, 0.60265418, 0.6128025 ]),\n",
              " 'split4_test_score': array([0.48264984, 0.52365931, 0.49211356, 0.51419558, 0.52050473,\n",
              "        0.50473186, 0.51104101, 0.50788644, 0.49211356, 0.50157729]),\n",
              " 'split4_train_score': array([0.83775351, 0.72230889, 0.69344774, 0.66614665, 0.64976599,\n",
              "        0.64118565, 0.63572543, 0.62480499, 0.61154446, 0.61154446]),\n",
              " 'std_fit_time': array([9.18239956e-04, 5.23773875e-05, 1.05624823e-04, 6.66157723e-05,\n",
              "        1.85300012e-04, 4.22540686e-05, 9.69986409e-05, 8.89283530e-05,\n",
              "        1.19465876e-04, 1.61528234e-04]),\n",
              " 'std_score_time': array([1.35287059e-03, 2.88075572e-04, 1.52994924e-04, 4.39253218e-05,\n",
              "        1.37184932e-04, 3.65412856e-05, 5.31966082e-05, 2.15454141e-04,\n",
              "        4.84849420e-04, 7.14954313e-05]),\n",
              " 'std_test_score': array([0.02071209, 0.02108372, 0.02739982, 0.01596991, 0.02970122,\n",
              "        0.03061897, 0.03465314, 0.04214457, 0.05170088, 0.05164987]),\n",
              " 'std_train_score': array([0.00282392, 0.00276642, 0.00673011, 0.00512725, 0.00801146,\n",
              "        0.01047167, 0.01289297, 0.00750087, 0.01248445, 0.00930786])}"
            ]
          },
          "metadata": {
            "tags": []
          },
          "execution_count": 57
        }
      ]
    },
    {
      "metadata": {
        "id": "6bdus8CdYJxS",
        "colab_type": "code",
        "outputId": "b6f711ba-8694-4ea5-bbbd-d8ca4259eb60",
        "colab": {
          "base_uri": "https://localhost:8080/",
          "height": 69
        }
      },
      "cell_type": "code",
      "source": [
        "# Лучшая модель\n",
        "clf_gs.best_estimator_"
      ],
      "execution_count": 0,
      "outputs": [
        {
          "output_type": "execute_result",
          "data": {
            "text/plain": [
              "KNeighborsClassifier(algorithm='auto', leaf_size=30, metric='minkowski',\n",
              "           metric_params=None, n_jobs=None, n_neighbors=10, p=2,\n",
              "           weights='uniform')"
            ]
          },
          "metadata": {
            "tags": []
          },
          "execution_count": 58
        }
      ]
    },
    {
      "metadata": {
        "id": "kCO7i_UpYRZm",
        "colab_type": "code",
        "outputId": "cf32ba8a-daf5-424b-ff82-99f8de79d462",
        "colab": {
          "base_uri": "https://localhost:8080/",
          "height": 35
        }
      },
      "cell_type": "code",
      "source": [
        "# Лучшее значение метрики\n",
        "clf_gs.best_score_"
      ],
      "execution_count": 0,
      "outputs": [
        {
          "output_type": "execute_result",
          "data": {
            "text/plain": [
              "0.5453408380237649"
            ]
          },
          "metadata": {
            "tags": []
          },
          "execution_count": 59
        }
      ]
    },
    {
      "metadata": {
        "id": "V2QBK1qKYU0h",
        "colab_type": "code",
        "outputId": "9ec5ee4a-b854-423a-8621-a0d49c2fd1f8",
        "colab": {
          "base_uri": "https://localhost:8080/",
          "height": 35
        }
      },
      "cell_type": "code",
      "source": [
        "# Лучшее значение параметров\n",
        "clf_gs.best_params_"
      ],
      "execution_count": 0,
      "outputs": [
        {
          "output_type": "execute_result",
          "data": {
            "text/plain": [
              "{'n_neighbors': 10}"
            ]
          },
          "metadata": {
            "tags": []
          },
          "execution_count": 60
        }
      ]
    },
    {
      "metadata": {
        "id": "zzwJrOrfYX4-",
        "colab_type": "code",
        "outputId": "78eb40fd-c627-4deb-a37b-c986b09bfd91",
        "colab": {
          "base_uri": "https://localhost:8080/",
          "height": 431
        }
      },
      "cell_type": "code",
      "source": [
        "# Изменение качества на обучающей выборке\n",
        "plt.plot(n_range, clf_gs.cv_results_['mean_train_score'])"
      ],
      "execution_count": 0,
      "outputs": [
        {
          "output_type": "stream",
          "text": [
            "/usr/local/lib/python3.6/dist-packages/sklearn/utils/deprecation.py:125: FutureWarning: You are accessing a training score ('mean_train_score'), which will not be available by default any more in 0.21. If you need training scores, please set return_train_score=True\n",
            "  warnings.warn(*warn_args, **warn_kwargs)\n"
          ],
          "name": "stderr"
        },
        {
          "output_type": "execute_result",
          "data": {
            "text/plain": [
              "[<matplotlib.lines.Line2D at 0x7ff05a828cf8>]"
            ]
          },
          "metadata": {
            "tags": []
          },
          "execution_count": 61
        },
        {
          "output_type": "display_data",
          "data": {
            "image/png": "[encoded data removed]",
            "text/plain": [
              "<Figure size 576x396 with 1 Axes>"
            ]
          },
          "metadata": {
            "tags": []
          }
        }
      ]
    },
    {
      "metadata": {
        "id": "AhA5dDChYjFW",
        "colab_type": "code",
        "outputId": "83c74965-17f8-447c-b788-29c29c4d2f0c",
        "colab": {
          "base_uri": "https://localhost:8080/",
          "height": 377
        }
      },
      "cell_type": "code",
      "source": [
        "# Изменение качества на тестовой выборке\n",
        "plt.plot(n_range, clf_gs.cv_results_['mean_test_score'])"
      ],
      "execution_count": 0,
      "outputs": [
        {
          "output_type": "execute_result",
          "data": {
            "text/plain": [
              "[<matplotlib.lines.Line2D at 0x7ff05a7fcb00>]"
            ]
          },
          "metadata": {
            "tags": []
          },
          "execution_count": 62
        },
        {
          "output_type": "display_data",
          "data": {
            "image/png": "[encoded data removed]",
            "text/plain": [
              "<Figure size 576x396 with 1 Axes>"
            ]
          },
          "metadata": {
            "tags": []
          }
        }
      ]
    },
    {
      "metadata": {
        "id": "x2UoDyEsUZDI",
        "colab_type": "code",
        "outputId": "c7a8106d-4bfb-4bd0-aa92-9dfcf5387c7e",
        "colab": {
          "base_uri": "https://localhost:8080/",
          "height": 69
        }
      },
      "cell_type": "code",
      "source": [
        "KNeighborsClassifierObjBest = KNeighborsClassifier(n_neighbors=10)\n",
        "KNeighborsClassifierObj"
      ],
      "execution_count": 0,
      "outputs": [
        {
          "output_type": "execute_result",
          "data": {
            "text/plain": [
              "KNeighborsClassifier(algorithm='auto', leaf_size=30, metric='minkowski',\n",
              "           metric_params=None, n_jobs=None, n_neighbors=3, p=2,\n",
              "           weights='uniform')"
            ]
          },
          "metadata": {
            "tags": []
          },
          "execution_count": 63
        }
      ]
    },
    {
      "metadata": {
        "id": "EUYwb8InV6ap",
        "colab_type": "code",
        "outputId": "da33633b-90cb-460e-c3dc-3270c4a6e71c",
        "colab": {
          "base_uri": "https://localhost:8080/",
          "height": 35
        }
      },
      "cell_type": "code",
      "source": [
        "KNeighborsClassifierObjBest.fit(X_train, y_train)\n",
        "KNeighborsClassifierObjBest.predict(X_test)[0:20]"
      ],
      "execution_count": 0,
      "outputs": [
        {
          "output_type": "execute_result",
          "data": {
            "text/plain": [
              "array([6, 5, 6, 6, 5, 5, 7, 5, 5, 6, 5, 6, 5, 6, 5, 6, 5, 7, 6, 5])"
            ]
          },
          "metadata": {
            "tags": []
          },
          "execution_count": 64
        }
      ]
    },
    {
      "metadata": {
        "id": "JR43ziP3WYCp",
        "colab_type": "code",
        "outputId": "b6cc8339-89bd-4a4d-b48b-b9f027432df7",
        "colab": {
          "base_uri": "https://localhost:8080/",
          "height": 35
        }
      },
      "cell_type": "code",
      "source": [
        "accuracy_score(y_test, KNeighborsClassifierObjBest.predict(X_test))"
      ],
      "execution_count": 0,
      "outputs": [
        {
          "output_type": "execute_result",
          "data": {
            "text/plain": [
              "0.53625"
            ]
          },
          "metadata": {
            "tags": []
          },
          "execution_count": 65
        }
      ]
    },
    {
      "metadata": {
        "id": "mpxjdKATWx0f",
        "colab_type": "code",
        "colab": {}
      },
      "cell_type": "code",
      "source": [
        "def convert_target_to_binary(array:np.ndarray, target:int) -> np.ndarray:\n",
        "    # Если целевой признак совпадает с указанным, то 1 иначе 0\n",
        "    res = [1 if x==target else 0 for x in array]\n",
        "    return res"
      ],
      "execution_count": 0,
      "outputs": []
    },
    {
      "metadata": {
        "id": "GCFwY2V5X4cc",
        "colab_type": "code",
        "colab": {}
      },
      "cell_type": "code",
      "source": [
        "# Конвертация предсказанных признаков\n",
        "bin_targetBest = convert_target_to_binary(KNeighborsClassifierObjBest.predict(X_test), 7)"
      ],
      "execution_count": 0,
      "outputs": []
    },
    {
      "metadata": {
        "id": "EZfHfcgwYBdz",
        "colab_type": "code",
        "outputId": "3a077f51-0134-44cf-9694-762b4ae69dbb",
        "colab": {
          "base_uri": "https://localhost:8080/",
          "height": 35
        }
      },
      "cell_type": "code",
      "source": [
        "balanced_accuracy_score(bin_y_test, bin_targetBest)"
      ],
      "execution_count": 0,
      "outputs": [
        {
          "output_type": "execute_result",
          "data": {
            "text/plain": [
              "0.635"
            ]
          },
          "metadata": {
            "tags": []
          },
          "execution_count": 68
        }
      ]
    },
    {
      "metadata": {
        "id": "toQ3HAs0ZqoL",
        "colab_type": "code",
        "outputId": "4132ee7d-13ff-4a8e-9409-923c30da14b4",
        "colab": {
          "base_uri": "https://localhost:8080/",
          "height": 35
        }
      },
      "cell_type": "code",
      "source": [
        "precision_score(bin_y_test, bin_targetBest), recall_score(bin_y_test, bin_targetBest)"
      ],
      "execution_count": 0,
      "outputs": [
        {
          "output_type": "execute_result",
          "data": {
            "text/plain": [
              "(0.40963855421686746, 0.34)"
            ]
          },
          "metadata": {
            "tags": []
          },
          "execution_count": 69
        }
      ]
    },
    {
      "metadata": {
        "id": "TDPHTqttZ-sU",
        "colab_type": "code",
        "colab": {}
      },
      "cell_type": "code",
      "source": [
        "def plot_learning_curve(estimator, title, X, y, ylim=None, cv=None,\n",
        "                        n_jobs=None, train_sizes=np.linspace(.1, 1.0, 5)):\n",
        "    \"\"\"\n",
        "    Generate a simple plot of the test and training learning curve.\n",
        "\n",
        "    Parameters\n",
        "    ----------\n",
        "    estimator : object type that implements the \"fit\" and \"predict\" methods\n",
        "        An object of that type which is cloned for each validation.\n",
        "\n",
        "    title : string\n",
        "        Title for the chart.\n",
        "\n",
        "    X : array-like, shape (n_samples, n_features)\n",
        "        Training vector, where n_samples is the number of samples and\n",
        "        n_features is the number of features.\n",
        "\n",
        "    y : array-like, shape (n_samples) or (n_samples, n_features), optional\n",
        "        Target relative to X for classification or regression;\n",
        "        None for unsupervised learning.\n",
        "\n",
        "    ylim : tuple, shape (ymin, ymax), optional\n",
        "        Defines minimum and maximum yvalues plotted.\n",
        "\n",
        "    cv : int, cross-validation generator or an iterable, optional\n",
        "        Determines the cross-validation splitting strategy.\n",
        "        Possible inputs for cv are:\n",
        "          - None, to use the default 3-fold cross-validation,\n",
        "          - integer, to specify the number of folds.\n",
        "          - :term:`CV splitter`,\n",
        "          - An iterable yielding (train, test) splits as arrays of indices.\n",
        "\n",
        "        For integer/None inputs, if ``y`` is binary or multiclass,\n",
        "        :class:`StratifiedKFold` used. If the estimator is not a classifier\n",
        "        or if ``y`` is neither binary nor multiclass, :class:`KFold` is used.\n",
        "\n",
        "        Refer :ref:`User Guide <cross_validation>` for the various\n",
        "        cross-validators that can be used here.\n",
        "\n",
        "    n_jobs : int or None, optional (default=None)\n",
        "        Number of jobs to run in parallel.\n",
        "        ``None`` means 1 unless in a :obj:`joblib.parallel_backend` context.\n",
        "        ``-1`` means using all processors. See :term:`Glossary <n_jobs>`\n",
        "        for more details.\n",
        "\n",
        "    train_sizes : array-like, shape (n_ticks,), dtype float or int\n",
        "        Relative or absolute numbers of training examples that will be used to\n",
        "        generate the learning curve. If the dtype is float, it is regarded as a\n",
        "        fraction of the maximum size of the training set (that is determined\n",
        "        by the selected validation method), i.e. it has to be within (0, 1].\n",
        "        Otherwise it is interpreted as absolute sizes of the training sets.\n",
        "        Note that for classification the number of samples usually have to\n",
        "        be big enough to contain at least one sample from each class.\n",
        "        (default: np.linspace(0.1, 1.0, 5))\n",
        "    \"\"\"\n",
        "    plt.figure()\n",
        "    plt.title(title)\n",
        "    if ylim is not None:\n",
        "        plt.ylim(*ylim)\n",
        "    plt.xlabel(\"Training examples\")\n",
        "    plt.ylabel(\"Score\")\n",
        "    train_sizes, train_scores, test_scores = learning_curve(\n",
        "        estimator, X, y, cv=cv, n_jobs=n_jobs, train_sizes=train_sizes)\n",
        "    train_scores_mean = np.mean(train_scores, axis=1)\n",
        "    train_scores_std = np.std(train_scores, axis=1)\n",
        "    test_scores_mean = np.mean(test_scores, axis=1)\n",
        "    test_scores_std = np.std(test_scores, axis=1)\n",
        "    plt.grid()\n",
        "\n",
        "    plt.fill_between(train_sizes, train_scores_mean - train_scores_std,\n",
        "                     train_scores_mean + train_scores_std, alpha=0.1,\n",
        "                     color=\"r\")\n",
        "    plt.fill_between(train_sizes, test_scores_mean - test_scores_std,\n",
        "                     test_scores_mean + test_scores_std, alpha=0.1, color=\"g\")\n",
        "    plt.plot(train_sizes, train_scores_mean, 'o-', color=\"r\",\n",
        "             label=\"Training score\")\n",
        "    plt.plot(train_sizes, test_scores_mean, 'o-', color=\"g\",\n",
        "             label=\"Cross-validation score\")\n",
        "\n",
        "    plt.legend(loc=\"best\")\n",
        "    return plt"
      ],
      "execution_count": 0,
      "outputs": []
    },
    {
      "metadata": {
        "id": "tD5TBc-_aJSh",
        "colab_type": "code",
        "outputId": "2d7c1e06-0b82-4603-b7e4-b3757ee56c67",
        "colab": {
          "base_uri": "https://localhost:8080/",
          "height": 400
        }
      },
      "cell_type": "code",
      "source": [
        "plot_learning_curve(KNeighborsClassifier(n_neighbors=10), 'n_neighbors=10', \n",
        "                    X_train, y_train, cv=StratifiedKFold(n_splits=5))"
      ],
      "execution_count": 0,
      "outputs": [
        {
          "output_type": "execute_result",
          "data": {
            "text/plain": [
              "<module 'matplotlib.pyplot' from '/usr/local/lib/python3.6/dist-packages/matplotlib/pyplot.py'>"
            ]
          },
          "metadata": {
            "tags": []
          },
          "execution_count": 74
        },
        {
          "output_type": "display_data",
          "data": {
            "image/png": "[encoded data removed]",
            "text/plain": [
              "<Figure size 576x396 with 1 Axes>"
            ]
          },
          "metadata": {
            "tags": []
          }
        }
      ]
    },
    {
      "metadata": {
        "id": "GeOu-o-cbKTO",
        "colab_type": "code",
        "colab": {}
      },
      "cell_type": "code",
      "source": [
        "def plot_validation_curve(estimator, title, X, y, \n",
        "                          param_name, param_range, cv, \n",
        "                          scoring=\"accuracy\"):\n",
        "                                                   \n",
        "    train_scores, test_scores = validation_curve(\n",
        "        estimator, X, y, param_name=param_name, param_range=param_range,\n",
        "        cv=cv, scoring=scoring, n_jobs=1)\n",
        "    train_scores_mean = np.mean(train_scores, axis=1)\n",
        "    train_scores_std = np.std(train_scores, axis=1)\n",
        "    test_scores_mean = np.mean(test_scores, axis=1)\n",
        "    test_scores_std = np.std(test_scores, axis=1)\n",
        "\n",
        "    plt.title(title)\n",
        "    plt.xlabel(param_name)\n",
        "    plt.ylabel(\"Score\")\n",
        "    plt.ylim(0.0, 1.1)\n",
        "    lw = 2\n",
        "    plt.plot(param_range, train_scores_mean, label=\"Training score\",\n",
        "                 color=\"darkorange\", lw=lw)\n",
        "    plt.fill_between(param_range, train_scores_mean - train_scores_std,\n",
        "                     train_scores_mean + train_scores_std, alpha=0.2,\n",
        "                     color=\"darkorange\", lw=lw)\n",
        "    plt.plot(param_range, test_scores_mean, label=\"Cross-validation score\",\n",
        "                 color=\"navy\", lw=lw)\n",
        "    plt.fill_between(param_range, test_scores_mean - test_scores_std,\n",
        "                     test_scores_mean + test_scores_std, alpha=0.2,\n",
        "                     color=\"navy\", lw=lw)\n",
        "    plt.legend(loc=\"best\")\n",
        "    return plt"
      ],
      "execution_count": 0,
      "outputs": []
    },
    {
      "metadata": {
        "id": "LYVqVobGb0vg",
        "colab_type": "code",
        "outputId": "29a5b3a5-6194-4ebf-d8ad-78db5c16580e",
        "colab": {
          "base_uri": "https://localhost:8080/",
          "height": 400
        }
      },
      "cell_type": "code",
      "source": [
        "plot_validation_curve(KNeighborsClassifier(), 'knn', \n",
        "                      X_train, y_train, \n",
        "                      param_name='n_neighbors', param_range=n_range, \n",
        "                      cv=StratifiedKFold(n_splits=5), scoring=\"accuracy\")"
      ],
      "execution_count": 0,
      "outputs": [
        {
          "output_type": "execute_result",
          "data": {
            "text/plain": [
              "<module 'matplotlib.pyplot' from '/usr/local/lib/python3.6/dist-packages/matplotlib/pyplot.py'>"
            ]
          },
          "metadata": {
            "tags": []
          },
          "execution_count": 77
        },
        {
          "output_type": "display_data",
          "data": {
            "image/png": "[encoded data removed]",
            "text/plain": [
              "<Figure size 576x396 with 1 Axes>"
            ]
          },
          "metadata": {
            "tags": []
          }
        }
      ]
    }
  ]
}