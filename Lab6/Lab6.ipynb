{
  "nbformat": 4,
  "nbformat_minor": 0,
  "metadata": {
    "colab": {
      "name": "Lab6.ipynb",
      "version": "0.3.2",
      "provenance": [],
      "collapsed_sections": []
    },
    "kernelspec": {
      "name": "python3",
      "display_name": "Python 3"
    }
  },
  "cells": [
    {
      "cell_type": "markdown",
      "metadata": {
        "id": "BB0JaThnS3T8",
        "colab_type": "text"
      },
      "source": [
        " В качестве набора данных я выбрала тот же самый датасет, что и был выбран мной в предыдущих лабораторных работах. Следовательно вся предобработка данных будет схожа с предобработкой в предыдущих лабах. "
      ]
    },
    {
      "cell_type": "code",
      "metadata": {
        "id": "E-M6hzfNSwuS",
        "colab_type": "code",
        "colab": {}
      },
      "source": [
        "#Импорт библиотек \n",
        "from google.colab import drive\n",
        "import numpy as np\n",
        "import pandas as pd\n",
        "from sklearn.model_selection import train_test_split\n",
        "from sklearn.neighbors import KNeighborsRegressor, KNeighborsClassifier\n",
        "from sklearn.metrics import accuracy_score, balanced_accuracy_score\n",
        "from sklearn.metrics import precision_score, recall_score\n",
        "from sklearn.model_selection import KFold\n",
        "from sklearn.ensemble import BaggingClassifier\n",
        "from sklearn.tree import DecisionTreeClassifier\n",
        "from sklearn.model_selection import GridSearchCV\n",
        "from sklearn.ensemble import RandomForestClassifier\n",
        "import seaborn as sns\n",
        "import matplotlib.pyplot as plt\n",
        "%matplotlib inline \n",
        "sns.set(style=\"ticks\")"
      ],
      "execution_count": 0,
      "outputs": []
    },
    {
      "cell_type": "code",
      "metadata": {
        "id": "mJdY5ALyTSHn",
        "colab_type": "code",
        "outputId": "dd85f786-8724-4dfe-defa-d551953bc780",
        "colab": {
          "base_uri": "https://localhost:8080/",
          "height": 189
        }
      },
      "source": [
        "#Монтирую гугл диск, чтобы взять оттуда датасет\n",
        "drive.mount(\"/content/gdrive\", force_remount=True)"
      ],
      "execution_count": 2,
      "outputs": [
        {
          "output_type": "stream",
          "text": [
            "Go to this URL in a browser: https://accounts.google.com/o/oauth2/auth?client_id=947318989803-6bn6qk8qdgf4n4g3pfee6491hc0brc4i.apps.googleusercontent.com&redirect_uri=urn%3Aietf%3Awg%3Aoauth%3A2.0%3Aoob&scope=email%20https%3A%2F%2Fwww.googleapis.com%2Fauth%2Fdocs.test%20https%3A%2F%2Fwww.googleapis.com%2Fauth%2Fdrive%20https%3A%2F%2Fwww.googleapis.com%2Fauth%2Fdrive.photos.readonly%20https%3A%2F%2Fwww.googleapis.com%2Fauth%2Fpeopleapi.readonly&response_type=code\n",
            "\n",
            "Enter your authorization code:\n",
            "··········\n",
            "Mounted at /content/gdrive\n"
          ],
          "name": "stdout"
        }
      ]
    },
    {
      "cell_type": "code",
      "metadata": {
        "id": "gOqkZS2nTZDx",
        "colab_type": "code",
        "colab": {}
      },
      "source": [
        "#Загружаю данные с гугл диска\n",
        "data = pd.read_csv('/content/gdrive/My Drive/winequality-red.csv', sep=\",\")"
      ],
      "execution_count": 0,
      "outputs": []
    },
    {
      "cell_type": "code",
      "metadata": {
        "id": "j2MshOr1aETI",
        "colab_type": "code",
        "outputId": "044af5b9-97fa-479e-92bc-e5c5ac692bb6",
        "colab": {
          "base_uri": "https://localhost:8080/",
          "height": 221
        }
      },
      "source": [
        "data.head(5)"
      ],
      "execution_count": 4,
      "outputs": [
        {
          "output_type": "execute_result",
          "data": {
            "text/html": [
              "<div>\n",
              "<style scoped>\n",
              "    .dataframe tbody tr th:only-of-type {\n",
              "        vertical-align: middle;\n",
              "    }\n",
              "\n",
              "    .dataframe tbody tr th {\n",
              "        vertical-align: top;\n",
              "    }\n",
              "\n",
              "    .dataframe thead th {\n",
              "        text-align: right;\n",
              "    }\n",
              "</style>\n",
              "<table border=\"1\" class=\"dataframe\">\n",
              "  <thead>\n",
              "    <tr style=\"text-align: right;\">\n",
              "      <th></th>\n",
              "      <th>fixed acidity</th>\n",
              "      <th>volatile acidity</th>\n",
              "      <th>citric acid</th>\n",
              "      <th>residual sugar</th>\n",
              "      <th>chlorides</th>\n",
              "      <th>free sulfur dioxide</th>\n",
              "      <th>total sulfur dioxide</th>\n",
              "      <th>density</th>\n",
              "      <th>pH</th>\n",
              "      <th>sulphates</th>\n",
              "      <th>alcohol</th>\n",
              "      <th>quality</th>\n",
              "    </tr>\n",
              "  </thead>\n",
              "  <tbody>\n",
              "    <tr>\n",
              "      <th>0</th>\n",
              "      <td>7.4</td>\n",
              "      <td>0.70</td>\n",
              "      <td>0.00</td>\n",
              "      <td>1.9</td>\n",
              "      <td>0.076</td>\n",
              "      <td>11.0</td>\n",
              "      <td>34.0</td>\n",
              "      <td>0.9978</td>\n",
              "      <td>3.51</td>\n",
              "      <td>0.56</td>\n",
              "      <td>9.4</td>\n",
              "      <td>5</td>\n",
              "    </tr>\n",
              "    <tr>\n",
              "      <th>1</th>\n",
              "      <td>7.8</td>\n",
              "      <td>0.88</td>\n",
              "      <td>0.00</td>\n",
              "      <td>2.6</td>\n",
              "      <td>0.098</td>\n",
              "      <td>25.0</td>\n",
              "      <td>67.0</td>\n",
              "      <td>0.9968</td>\n",
              "      <td>3.20</td>\n",
              "      <td>0.68</td>\n",
              "      <td>9.8</td>\n",
              "      <td>5</td>\n",
              "    </tr>\n",
              "    <tr>\n",
              "      <th>2</th>\n",
              "      <td>7.8</td>\n",
              "      <td>0.76</td>\n",
              "      <td>0.04</td>\n",
              "      <td>2.3</td>\n",
              "      <td>0.092</td>\n",
              "      <td>15.0</td>\n",
              "      <td>54.0</td>\n",
              "      <td>0.9970</td>\n",
              "      <td>3.26</td>\n",
              "      <td>0.65</td>\n",
              "      <td>9.8</td>\n",
              "      <td>5</td>\n",
              "    </tr>\n",
              "    <tr>\n",
              "      <th>3</th>\n",
              "      <td>11.2</td>\n",
              "      <td>0.28</td>\n",
              "      <td>0.56</td>\n",
              "      <td>1.9</td>\n",
              "      <td>0.075</td>\n",
              "      <td>17.0</td>\n",
              "      <td>60.0</td>\n",
              "      <td>0.9980</td>\n",
              "      <td>3.16</td>\n",
              "      <td>0.58</td>\n",
              "      <td>9.8</td>\n",
              "      <td>6</td>\n",
              "    </tr>\n",
              "    <tr>\n",
              "      <th>4</th>\n",
              "      <td>7.4</td>\n",
              "      <td>0.70</td>\n",
              "      <td>0.00</td>\n",
              "      <td>1.9</td>\n",
              "      <td>0.076</td>\n",
              "      <td>11.0</td>\n",
              "      <td>34.0</td>\n",
              "      <td>0.9978</td>\n",
              "      <td>3.51</td>\n",
              "      <td>0.56</td>\n",
              "      <td>9.4</td>\n",
              "      <td>5</td>\n",
              "    </tr>\n",
              "  </tbody>\n",
              "</table>\n",
              "</div>"
            ],
            "text/plain": [
              "   fixed acidity  volatile acidity  citric acid  residual sugar  chlorides  \\\n",
              "0            7.4              0.70         0.00             1.9      0.076   \n",
              "1            7.8              0.88         0.00             2.6      0.098   \n",
              "2            7.8              0.76         0.04             2.3      0.092   \n",
              "3           11.2              0.28         0.56             1.9      0.075   \n",
              "4            7.4              0.70         0.00             1.9      0.076   \n",
              "\n",
              "   free sulfur dioxide  total sulfur dioxide  density    pH  sulphates  \\\n",
              "0                 11.0                  34.0   0.9978  3.51       0.56   \n",
              "1                 25.0                  67.0   0.9968  3.20       0.68   \n",
              "2                 15.0                  54.0   0.9970  3.26       0.65   \n",
              "3                 17.0                  60.0   0.9980  3.16       0.58   \n",
              "4                 11.0                  34.0   0.9978  3.51       0.56   \n",
              "\n",
              "   alcohol  quality  \n",
              "0      9.4        5  \n",
              "1      9.8        5  \n",
              "2      9.8        5  \n",
              "3      9.8        6  \n",
              "4      9.4        5  "
            ]
          },
          "metadata": {
            "tags": []
          },
          "execution_count": 4
        }
      ]
    },
    {
      "cell_type": "code",
      "metadata": {
        "id": "oPjQdfNtTZuC",
        "colab_type": "code",
        "outputId": "a36fa95a-5dd2-4605-9139-4cd760e84f35",
        "colab": {
          "base_uri": "https://localhost:8080/",
          "height": 34
        }
      },
      "source": [
        "cols_x = ['fixed acidity', 'citric acid', 'sulphates', 'alcohol']   \n",
        "# целевой признак\n",
        "col_y = 'quality'\n",
        "#разделение данных  на тестовую и обучающую выборки \n",
        "X_train, X_test, y_train, y_test = train_test_split(data[cols_x], data[col_y], test_size = 0.5, random_state = 11)\n",
        "N_train, _ = X_train.shape \n",
        "N_test,  _ = X_test.shape \n",
        "print (N_train, N_test)"
      ],
      "execution_count": 5,
      "outputs": [
        {
          "output_type": "stream",
          "text": [
            "799 800\n"
          ],
          "name": "stdout"
        }
      ]
    },
    {
      "cell_type": "markdown",
      "metadata": {
        "id": "GfTxKbRzX_ew",
        "colab_type": "text"
      },
      "source": [
        "# Модель бэггинга"
      ]
    },
    {
      "cell_type": "code",
      "metadata": {
        "id": "Qi-VIjarTg2C",
        "colab_type": "code",
        "colab": {}
      },
      "source": [
        "bag = BaggingClassifier(DecisionTreeClassifier(random_state=1), n_estimators=10).fit(X_train, y_train)"
      ],
      "execution_count": 0,
      "outputs": []
    },
    {
      "cell_type": "code",
      "metadata": {
        "id": "DcJsS-kdY-Lg",
        "colab_type": "code",
        "colab": {}
      },
      "source": [
        "target_bag = bag.predict(X_test)"
      ],
      "execution_count": 0,
      "outputs": []
    },
    {
      "cell_type": "code",
      "metadata": {
        "id": "n_v5tra9ZNw7",
        "colab_type": "code",
        "colab": {}
      },
      "source": [
        "def convert_target_to_binary(array:np.ndarray, target:int) -> np.ndarray:\n",
        "    # Если целевой признак совпадает с указанным, то 1 иначе 0\n",
        "    res = [1 if x==target else 0 for x in array]\n",
        "    return res"
      ],
      "execution_count": 0,
      "outputs": []
    },
    {
      "cell_type": "code",
      "metadata": {
        "id": "LgCRrJPrZUu1",
        "colab_type": "code",
        "outputId": "3f07b94e-c5dc-4c42-f6d0-29ef09b1befa",
        "colab": {
          "base_uri": "https://localhost:8080/",
          "height": 272
        }
      },
      "source": [
        "# Если целевой признак == 6, \n",
        "# то будем считать этот случай 1 в бинарном признаке\n",
        "bin_y_test = convert_target_to_binary(y_test, 6)\n",
        "list(zip(y_test, bin_y_test))[0:15]"
      ],
      "execution_count": 9,
      "outputs": [
        {
          "output_type": "execute_result",
          "data": {
            "text/plain": [
              "[(5, 0),\n",
              " (5, 0),\n",
              " (5, 0),\n",
              " (6, 1),\n",
              " (6, 1),\n",
              " (5, 0),\n",
              " (7, 0),\n",
              " (5, 0),\n",
              " (5, 0),\n",
              " (6, 1),\n",
              " (5, 0),\n",
              " (6, 1),\n",
              " (5, 0),\n",
              " (3, 0),\n",
              " (6, 1)]"
            ]
          },
          "metadata": {
            "tags": []
          },
          "execution_count": 9
        }
      ]
    },
    {
      "cell_type": "code",
      "metadata": {
        "id": "s9c6uEKGZVZ8",
        "colab_type": "code",
        "colab": {}
      },
      "source": [
        "# Конвертация предсказанных признаков\n",
        "bin_target_bag = convert_target_to_binary(target_bag, 6)"
      ],
      "execution_count": 0,
      "outputs": []
    },
    {
      "cell_type": "code",
      "metadata": {
        "id": "FrqhxOVHZhx_",
        "colab_type": "code",
        "outputId": "1143268e-31d6-461e-c8e0-f5edf6a7e40f",
        "colab": {
          "base_uri": "https://localhost:8080/",
          "height": 68
        }
      },
      "source": [
        "ac_bag = accuracy_score(y_test, target_bag)\n",
        "bas_bag = balanced_accuracy_score(bin_y_test, bin_target_bag)\n",
        "rec_bag = recall_score(bin_y_test, bin_target_bag)\n",
        "print('''accuracy_score: {0}\n",
        "balanced_accuracy_score: {1}\n",
        "recall_score: {2}'''.format(ac_bag, bas_bag, rec_bag))"
      ],
      "execution_count": 11,
      "outputs": [
        {
          "output_type": "stream",
          "text": [
            "accuracy_score: 0.6\n",
            "balanced_accuracy_score: 0.6507403380704615\n",
            "recall_score: 0.5398773006134969\n"
          ],
          "name": "stdout"
        }
      ]
    },
    {
      "cell_type": "markdown",
      "metadata": {
        "id": "Witq_UgbOpkW",
        "colab_type": "text"
      },
      "source": [
        "#Случайный лес"
      ]
    },
    {
      "cell_type": "markdown",
      "metadata": {
        "id": "k5LxnBNLVbk2",
        "colab_type": "text"
      },
      "source": [
        "Рекомендуется в задачах классификации брать dl=D‾‾√\n",
        ", а в задачах регрессии dl=D/3\n",
        ". В библиотеке scikit-learn это признак max_features"
      ]
    },
    {
      "cell_type": "code",
      "metadata": {
        "id": "V9mFOuE8PBVi",
        "colab_type": "code",
        "colab": {
          "base_uri": "https://localhost:8080/",
          "height": 91
        },
        "outputId": "b550216a-9f12-4505-86ad-3c6fce98b37d"
      },
      "source": [
        "forest = RandomForestClassifier(random_state=1, max_features = 2).fit(X_train, y_train)"
      ],
      "execution_count": 12,
      "outputs": [
        {
          "output_type": "stream",
          "text": [
            "/usr/local/lib/python3.6/dist-packages/sklearn/ensemble/forest.py:246: FutureWarning: The default value of n_estimators will change from 10 in version 0.20 to 100 in 0.22.\n",
            "  \"10 in version 0.20 to 100 in 0.22.\", FutureWarning)\n"
          ],
          "name": "stderr"
        }
      ]
    },
    {
      "cell_type": "code",
      "metadata": {
        "id": "f2kD7aBkPnc-",
        "colab_type": "code",
        "colab": {}
      },
      "source": [
        "target_forest = forest.predict(X_test)"
      ],
      "execution_count": 0,
      "outputs": []
    },
    {
      "cell_type": "code",
      "metadata": {
        "id": "QhsV16R0ctga",
        "colab_type": "code",
        "colab": {}
      },
      "source": [
        "# Конвертация предсказанных признаков\n",
        "bin_target_forest = convert_target_to_binary(target_forest, 6)"
      ],
      "execution_count": 0,
      "outputs": []
    },
    {
      "cell_type": "code",
      "metadata": {
        "id": "3141RXcRc9kc",
        "colab_type": "code",
        "colab": {
          "base_uri": "https://localhost:8080/",
          "height": 68
        },
        "outputId": "6f1d46ff-11b4-4e40-b6f5-a230f2de8afb"
      },
      "source": [
        "ac_forest = accuracy_score(y_test, target_forest)\n",
        "bas_forest = balanced_accuracy_score(bin_y_test, bin_target_forest)\n",
        "rec_forest = recall_score(bin_y_test, bin_target_forest)\n",
        "print('''accuracy_score: {0}\n",
        "balanced_accuracy_score: {1}\n",
        "recall_score: {2}'''.format(ac_forest, bas_forest, rec_forest))"
      ],
      "execution_count": 15,
      "outputs": [
        {
          "output_type": "stream",
          "text": [
            "accuracy_score: 0.5825\n",
            "balanced_accuracy_score: 0.6229258885351143\n",
            "recall_score: 0.5644171779141104\n"
          ],
          "name": "stdout"
        }
      ]
    },
    {
      "cell_type": "markdown",
      "metadata": {
        "id": "7tn5rMpydrj-",
        "colab_type": "text"
      },
      "source": [
        "#Подбор гиперпараметра с использованием GridSearchCV и кросс-валидации "
      ]
    },
    {
      "cell_type": "markdown",
      "metadata": {
        "id": "17f1tdoid0OP",
        "colab_type": "text"
      },
      "source": [
        "## Для бэггинга"
      ]
    },
    {
      "cell_type": "code",
      "metadata": {
        "id": "KandI7hvdx36",
        "colab_type": "code",
        "colab": {
          "base_uri": "https://localhost:8080/",
          "height": 51
        },
        "outputId": "10abbd1e-99cd-411d-9517-f896b76a9887"
      },
      "source": [
        "n_range = np.array(range(1,202,10))\n",
        "tuned_parameters = [{'n_estimators': n_range}]\n",
        "tuned_parameters"
      ],
      "execution_count": 30,
      "outputs": [
        {
          "output_type": "execute_result",
          "data": {
            "text/plain": [
              "[{'n_estimators': array([  1,  11,  21,  31,  41,  51,  61,  71,  81,  91, 101, 111, 121,\n",
              "         131, 141, 151, 161, 171, 181, 191, 201])}]"
            ]
          },
          "metadata": {
            "tags": []
          },
          "execution_count": 30
        }
      ]
    },
    {
      "cell_type": "code",
      "metadata": {
        "id": "qVKc1kKHe-eN",
        "colab_type": "code",
        "colab": {
          "base_uri": "https://localhost:8080/",
          "height": 238
        },
        "outputId": "5a4109ba-330c-46a3-e75c-c0112da6964c"
      },
      "source": [
        "bag_gs = GridSearchCV(BaggingClassifier(DecisionTreeClassifier()), tuned_parameters, cv=KFold(n_splits=3), scoring='accuracy')\n",
        "bag_gs.fit(data[cols_x], data[col_y])"
      ],
      "execution_count": 31,
      "outputs": [
        {
          "output_type": "execute_result",
          "data": {
            "text/plain": [
              "GridSearchCV(cv=KFold(n_splits=3, random_state=None, shuffle=False),\n",
              "       error_score='raise-deprecating',\n",
              "       estimator=BaggingClassifier(base_estimator=DecisionTreeClassifier(class_weight=None, criterion='gini', max_depth=None,\n",
              "            max_features=None, max_leaf_nodes=None,\n",
              "            min_impurity_decrease=0.0, min_impurity_split=None,\n",
              "            min_samples_leaf=1, min_samples_split=2,\n",
              "            ...stimators=10, n_jobs=None, oob_score=False,\n",
              "         random_state=None, verbose=0, warm_start=False),\n",
              "       fit_params=None, iid='warn', n_jobs=None,\n",
              "       param_grid=[{'n_estimators': array([  1,  11,  21,  31,  41,  51,  61,  71,  81,  91, 101, 111, 121,\n",
              "       131, 141, 151, 161, 171, 181, 191, 201])}],\n",
              "       pre_dispatch='2*n_jobs', refit=True, return_train_score='warn',\n",
              "       scoring='accuracy', verbose=0)"
            ]
          },
          "metadata": {
            "tags": []
          },
          "execution_count": 31
        }
      ]
    },
    {
      "cell_type": "code",
      "metadata": {
        "id": "9-wXGfq1he-U",
        "colab_type": "code",
        "colab": {
          "base_uri": "https://localhost:8080/",
          "height": 34
        },
        "outputId": "36a0036f-4cb4-420c-9c7c-4bd0c125a4c5"
      },
      "source": [
        "bag_gs.best_params_"
      ],
      "execution_count": 32,
      "outputs": [
        {
          "output_type": "execute_result",
          "data": {
            "text/plain": [
              "{'n_estimators': 51}"
            ]
          },
          "metadata": {
            "tags": []
          },
          "execution_count": 32
        }
      ]
    },
    {
      "cell_type": "code",
      "metadata": {
        "id": "BGayp6OahxVD",
        "colab_type": "code",
        "colab": {}
      },
      "source": [
        "bag_gs.best_estimator_.fit(X_train, y_train)\n",
        "target_bag_gs = bag_gs.best_estimator_.predict(X_test)"
      ],
      "execution_count": 0,
      "outputs": []
    },
    {
      "cell_type": "code",
      "metadata": {
        "id": "_-sTUDu2iAHY",
        "colab_type": "code",
        "colab": {}
      },
      "source": [
        "# Конвертация предсказанных признаков\n",
        "bin_target_bag_gs = convert_target_to_binary(target_bag_gs, 6)"
      ],
      "execution_count": 0,
      "outputs": []
    },
    {
      "cell_type": "code",
      "metadata": {
        "id": "LHHmxaz5iKHs",
        "colab_type": "code",
        "colab": {
          "base_uri": "https://localhost:8080/",
          "height": 68
        },
        "outputId": "e402d9a2-9f51-41e1-eb52-659b142a201c"
      },
      "source": [
        "ac_bag_gs = accuracy_score(y_test, target_bag_gs)\n",
        "bas_bag_gs = balanced_accuracy_score(bin_y_test, bin_target_bag_gs)\n",
        "rec_bag_gs = recall_score(bin_y_test, bin_target_bag_gs)\n",
        "print('''accuracy_score: {0}\n",
        "balanced_accuracy_score: {1}\n",
        "recall_score: {2}'''.format(ac_bag_gs, bas_bag_gs, rec_bag_gs))"
      ],
      "execution_count": 36,
      "outputs": [
        {
          "output_type": "stream",
          "text": [
            "accuracy_score: 0.60875\n",
            "balanced_accuracy_score: 0.6555292381765939\n",
            "recall_score: 0.5705521472392638\n"
          ],
          "name": "stdout"
        }
      ]
    },
    {
      "cell_type": "markdown",
      "metadata": {
        "id": "ZdcILhLiif2S",
        "colab_type": "text"
      },
      "source": [
        "## Для случайного леса"
      ]
    },
    {
      "cell_type": "code",
      "metadata": {
        "id": "Ba_Qr4T8kOnv",
        "colab_type": "code",
        "colab": {
          "base_uri": "https://localhost:8080/",
          "height": 34
        },
        "outputId": "cdb422bc-5381-4dc9-bea8-781b08b19f91"
      },
      "source": [
        "n_range2 = np.array(range(1,5,1))\n",
        "tuned_parameters2 = [{'max_features': n_range2}]\n",
        "tuned_parameters2"
      ],
      "execution_count": 38,
      "outputs": [
        {
          "output_type": "execute_result",
          "data": {
            "text/plain": [
              "[{'max_features': array([1, 2, 3, 4])}]"
            ]
          },
          "metadata": {
            "tags": []
          },
          "execution_count": 38
        }
      ]
    },
    {
      "cell_type": "code",
      "metadata": {
        "id": "0QiliLiZjGcN",
        "colab_type": "code",
        "colab": {}
      },
      "source": [
        "forest_gs = GridSearchCV(RandomForestClassifier(), tuned_parameters2, cv=KFold(n_splits=10), scoring='accuracy')\n",
        "forest_gs.fit(data[cols_x], data[col_y])"
      ],
      "execution_count": 0,
      "outputs": []
    },
    {
      "cell_type": "code",
      "metadata": {
        "id": "BlbMvkESlo1V",
        "colab_type": "code",
        "colab": {
          "base_uri": "https://localhost:8080/",
          "height": 34
        },
        "outputId": "0be198ed-a3c9-4f7a-b00c-41320c0f5d3d"
      },
      "source": [
        "forest_gs.best_params_"
      ],
      "execution_count": 41,
      "outputs": [
        {
          "output_type": "execute_result",
          "data": {
            "text/plain": [
              "{'max_features': 1}"
            ]
          },
          "metadata": {
            "tags": []
          },
          "execution_count": 41
        }
      ]
    },
    {
      "cell_type": "code",
      "metadata": {
        "id": "zcRgK3kTlwQo",
        "colab_type": "code",
        "colab": {}
      },
      "source": [
        "forest_gs.best_estimator_.fit(X_train, y_train)\n",
        "target_forest_gs = bag_gs.best_estimator_.predict(X_test)"
      ],
      "execution_count": 0,
      "outputs": []
    },
    {
      "cell_type": "code",
      "metadata": {
        "id": "El0nEc8ul4Mz",
        "colab_type": "code",
        "colab": {}
      },
      "source": [
        "# Конвертация предсказанных признаков\n",
        "bin_target_forest_gs = convert_target_to_binary(target_forest_gs, 6)"
      ],
      "execution_count": 0,
      "outputs": []
    },
    {
      "cell_type": "code",
      "metadata": {
        "id": "TDs0GAH5l-CO",
        "colab_type": "code",
        "colab": {
          "base_uri": "https://localhost:8080/",
          "height": 68
        },
        "outputId": "00fd953e-5fbe-4665-8188-95be7e34f3c7"
      },
      "source": [
        "ac_forest_gs = accuracy_score(y_test, target_forest_gs)\n",
        "bas_forest_gs = balanced_accuracy_score(bin_y_test, bin_target_forest_gs)\n",
        "rec_forest_gs = recall_score(bin_y_test, bin_target_forest_gs)\n",
        "print('''accuracy_score: {0}\n",
        "balanced_accuracy_score: {1}\n",
        "recall_score: {2}'''.format(ac_forest_gs, bas_forest_gs, rec_forest_gs))"
      ],
      "execution_count": 44,
      "outputs": [
        {
          "output_type": "stream",
          "text": [
            "accuracy_score: 0.60875\n",
            "balanced_accuracy_score: 0.6555292381765939\n",
            "recall_score: 0.5705521472392638\n"
          ],
          "name": "stdout"
        }
      ]
    }
  ]
}